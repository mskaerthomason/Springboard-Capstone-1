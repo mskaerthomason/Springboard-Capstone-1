{
 "cells": [
  {
   "cell_type": "markdown",
   "metadata": {},
   "source": [
    "## Machine Learning: bikeshare data for Capstone 1"
   ]
  },
  {
   "cell_type": "markdown",
   "metadata": {},
   "source": [
    "### Build a model"
   ]
  },
  {
   "cell_type": "markdown",
   "metadata": {},
   "source": [
    "- Predict demand (# of rentals) on a given day (e.g. for 2017) \n",
    "    - linear regression/SVM\n",
    "    - X: julian day; y: count/day\n",
    "    - could add X: proximity to metro station <-- but is this redundant with station? could use for interpretation"
   ]
  },
  {
   "cell_type": "markdown",
   "metadata": {},
   "source": [
    "#### Model steps: \n",
    "  - We can use older data to train (e.g. 2015-2016) and the most recent year to test accuracy (2017)\n",
    "      - typical cross validation techniques will lead to spurious scoring becuase we are working with time series data\n",
    "  - initialize a model (e.g. linear regression) and fit with training data\n",
    "  - compare accuracy to test data visually"
   ]
  },
  {
   "cell_type": "code",
   "execution_count": 2,
   "metadata": {
    "collapsed": true
   },
   "outputs": [],
   "source": [
    "import math\n",
    "import pandas as pd\n",
    "import numpy as np\n",
    "import matplotlib.pyplot as plt\n",
    "import seaborn as sns\n",
    "import scipy.stats as stats\n",
    "%matplotlib inline\n",
    "from sklearn.linear_model import LinearRegression\n",
    "from sklearn.model_selection import cross_val_score"
   ]
  },
  {
   "cell_type": "code",
   "execution_count": 10,
   "metadata": {},
   "outputs": [
    {
     "data": {
      "text/html": [
       "<div>\n",
       "<style>\n",
       "    .dataframe thead tr:only-child th {\n",
       "        text-align: right;\n",
       "    }\n",
       "\n",
       "    .dataframe thead th {\n",
       "        text-align: left;\n",
       "    }\n",
       "\n",
       "    .dataframe tbody tr th {\n",
       "        vertical-align: top;\n",
       "    }\n",
       "</style>\n",
       "<table border=\"1\" class=\"dataframe\">\n",
       "  <thead>\n",
       "    <tr style=\"text-align: right;\">\n",
       "      <th></th>\n",
       "      <th>Unnamed: 0</th>\n",
       "      <th>Year</th>\n",
       "      <th>Month</th>\n",
       "      <th>Day</th>\n",
       "      <th>timeDelt</th>\n",
       "      <th>startweekday</th>\n",
       "      <th>totalRents</th>\n",
       "      <th>timeDelt_sq</th>\n",
       "      <th>holiday</th>\n",
       "      <th>station</th>\n",
       "      <th>...</th>\n",
       "      <th>startdate2</th>\n",
       "      <th>tmax_sq</th>\n",
       "      <th>tmin_sq</th>\n",
       "      <th>day_0</th>\n",
       "      <th>day_1</th>\n",
       "      <th>day_2</th>\n",
       "      <th>day_3</th>\n",
       "      <th>day_4</th>\n",
       "      <th>day_5</th>\n",
       "      <th>day_6</th>\n",
       "    </tr>\n",
       "    <tr>\n",
       "      <th>startdate</th>\n",
       "      <th></th>\n",
       "      <th></th>\n",
       "      <th></th>\n",
       "      <th></th>\n",
       "      <th></th>\n",
       "      <th></th>\n",
       "      <th></th>\n",
       "      <th></th>\n",
       "      <th></th>\n",
       "      <th></th>\n",
       "      <th></th>\n",
       "      <th></th>\n",
       "      <th></th>\n",
       "      <th></th>\n",
       "      <th></th>\n",
       "      <th></th>\n",
       "      <th></th>\n",
       "      <th></th>\n",
       "      <th></th>\n",
       "      <th></th>\n",
       "      <th></th>\n",
       "    </tr>\n",
       "  </thead>\n",
       "  <tbody>\n",
       "    <tr>\n",
       "      <th>2016-01-01</th>\n",
       "      <td>0</td>\n",
       "      <td>2016</td>\n",
       "      <td>1</td>\n",
       "      <td>1</td>\n",
       "      <td>0</td>\n",
       "      <td>4</td>\n",
       "      <td>3220</td>\n",
       "      <td>0</td>\n",
       "      <td>0.0</td>\n",
       "      <td>USC00186350</td>\n",
       "      <td>...</td>\n",
       "      <td>2016-01-01</td>\n",
       "      <td>3136.0</td>\n",
       "      <td>1681.0</td>\n",
       "      <td>0</td>\n",
       "      <td>0</td>\n",
       "      <td>0</td>\n",
       "      <td>0</td>\n",
       "      <td>1</td>\n",
       "      <td>0</td>\n",
       "      <td>0</td>\n",
       "    </tr>\n",
       "    <tr>\n",
       "      <th>2016-01-02</th>\n",
       "      <td>1</td>\n",
       "      <td>2016</td>\n",
       "      <td>1</td>\n",
       "      <td>2</td>\n",
       "      <td>1</td>\n",
       "      <td>5</td>\n",
       "      <td>4921</td>\n",
       "      <td>1</td>\n",
       "      <td>0.0</td>\n",
       "      <td>USC00186350</td>\n",
       "      <td>...</td>\n",
       "      <td>2016-01-02</td>\n",
       "      <td>2116.0</td>\n",
       "      <td>961.0</td>\n",
       "      <td>0</td>\n",
       "      <td>0</td>\n",
       "      <td>0</td>\n",
       "      <td>0</td>\n",
       "      <td>0</td>\n",
       "      <td>1</td>\n",
       "      <td>0</td>\n",
       "    </tr>\n",
       "    <tr>\n",
       "      <th>2016-01-03</th>\n",
       "      <td>2</td>\n",
       "      <td>2016</td>\n",
       "      <td>1</td>\n",
       "      <td>3</td>\n",
       "      <td>2</td>\n",
       "      <td>6</td>\n",
       "      <td>4965</td>\n",
       "      <td>4</td>\n",
       "      <td>0.0</td>\n",
       "      <td>USC00186350</td>\n",
       "      <td>...</td>\n",
       "      <td>2016-01-03</td>\n",
       "      <td>2304.0</td>\n",
       "      <td>841.0</td>\n",
       "      <td>0</td>\n",
       "      <td>0</td>\n",
       "      <td>0</td>\n",
       "      <td>0</td>\n",
       "      <td>0</td>\n",
       "      <td>0</td>\n",
       "      <td>1</td>\n",
       "    </tr>\n",
       "    <tr>\n",
       "      <th>2016-01-04</th>\n",
       "      <td>3</td>\n",
       "      <td>2016</td>\n",
       "      <td>1</td>\n",
       "      <td>4</td>\n",
       "      <td>3</td>\n",
       "      <td>0</td>\n",
       "      <td>5133</td>\n",
       "      <td>9</td>\n",
       "      <td>0.0</td>\n",
       "      <td>USC00186350</td>\n",
       "      <td>...</td>\n",
       "      <td>2016-01-04</td>\n",
       "      <td>2809.0</td>\n",
       "      <td>841.0</td>\n",
       "      <td>1</td>\n",
       "      <td>0</td>\n",
       "      <td>0</td>\n",
       "      <td>0</td>\n",
       "      <td>0</td>\n",
       "      <td>0</td>\n",
       "      <td>0</td>\n",
       "    </tr>\n",
       "    <tr>\n",
       "      <th>2016-01-05</th>\n",
       "      <td>4</td>\n",
       "      <td>2016</td>\n",
       "      <td>1</td>\n",
       "      <td>5</td>\n",
       "      <td>4</td>\n",
       "      <td>1</td>\n",
       "      <td>4850</td>\n",
       "      <td>16</td>\n",
       "      <td>0.0</td>\n",
       "      <td>USC00186350</td>\n",
       "      <td>...</td>\n",
       "      <td>2016-01-05</td>\n",
       "      <td>1444.0</td>\n",
       "      <td>225.0</td>\n",
       "      <td>0</td>\n",
       "      <td>1</td>\n",
       "      <td>0</td>\n",
       "      <td>0</td>\n",
       "      <td>0</td>\n",
       "      <td>0</td>\n",
       "      <td>0</td>\n",
       "    </tr>\n",
       "  </tbody>\n",
       "</table>\n",
       "<p>5 rows × 23 columns</p>\n",
       "</div>"
      ],
      "text/plain": [
       "            Unnamed: 0  Year  Month  Day  timeDelt  startweekday  totalRents  \\\n",
       "startdate                                                                      \n",
       "2016-01-01           0  2016      1    1         0             4        3220   \n",
       "2016-01-02           1  2016      1    2         1             5        4921   \n",
       "2016-01-03           2  2016      1    3         2             6        4965   \n",
       "2016-01-04           3  2016      1    4         3             0        5133   \n",
       "2016-01-05           4  2016      1    5         4             1        4850   \n",
       "\n",
       "            timeDelt_sq  holiday      station  ...    startdate2  tmax_sq  \\\n",
       "startdate                                      ...                          \n",
       "2016-01-01            0      0.0  USC00186350  ...    2016-01-01   3136.0   \n",
       "2016-01-02            1      0.0  USC00186350  ...    2016-01-02   2116.0   \n",
       "2016-01-03            4      0.0  USC00186350  ...    2016-01-03   2304.0   \n",
       "2016-01-04            9      0.0  USC00186350  ...    2016-01-04   2809.0   \n",
       "2016-01-05           16      0.0  USC00186350  ...    2016-01-05   1444.0   \n",
       "\n",
       "            tmin_sq day_0  day_1  day_2  day_3  day_4  day_5  day_6  \n",
       "startdate                                                            \n",
       "2016-01-01   1681.0     0      0      0      0      1      0      0  \n",
       "2016-01-02    961.0     0      0      0      0      0      1      0  \n",
       "2016-01-03    841.0     0      0      0      0      0      0      1  \n",
       "2016-01-04    841.0     1      0      0      0      0      0      0  \n",
       "2016-01-05    225.0     0      1      0      0      0      0      0  \n",
       "\n",
       "[5 rows x 23 columns]"
      ]
     },
     "execution_count": 10,
     "metadata": {},
     "output_type": "execute_result"
    }
   ],
   "source": [
    "totals = pd.read_csv('../CapstoneDrafts/data/2016totals.csv', \n",
    "                        parse_dates=True, index_col=4)\n",
    "totals.head()"
   ]
  },
  {
   "cell_type": "code",
   "execution_count": 11,
   "metadata": {},
   "outputs": [],
   "source": [
    "#eliminate extraneous columns before proceeding\n",
    "X_main=totals.drop(['totalRents','station','name','startdate2'], axis=1)\n",
    "y = totals['totalRents']"
   ]
  },
  {
   "cell_type": "markdown",
   "metadata": {},
   "source": [
    "Attempt 3 increasingly complex models with basic linear model:"
   ]
  },
  {
   "cell_type": "markdown",
   "metadata": {},
   "source": [
    "__Model 1__: Time and time<sup>2</sup> (_2 features_)"
   ]
  },
  {
   "cell_type": "code",
   "execution_count": 12,
   "metadata": {},
   "outputs": [],
   "source": [
    "X1 = totals[['timeDelt', 'timeDelt_sq']]\n",
    "y = totals['totalRents']"
   ]
  },
  {
   "cell_type": "code",
   "execution_count": 13,
   "metadata": {},
   "outputs": [
    {
     "data": {
      "text/plain": [
       "LinearRegression(copy_X=True, fit_intercept=True, n_jobs=1, normalize=True)"
      ]
     },
     "execution_count": 13,
     "metadata": {},
     "output_type": "execute_result"
    }
   ],
   "source": [
    "lr1 = LinearRegression(normalize=True)\n",
    "lr1.fit(X1, y)"
   ]
  },
  {
   "cell_type": "code",
   "execution_count": 14,
   "metadata": {},
   "outputs": [
    {
     "name": "stdout",
     "output_type": "stream",
     "text": [
      "r2 scores: [-0.2414031  -0.20546794 -0.12677024 -0.26390144 -0.29435678]\n",
      "mean r2: -0.226379900519\n"
     ]
    }
   ],
   "source": [
    "scores1 = cross_val_score(lr1, X1, y, cv=5, scoring='r2')\n",
    "print('r2 scores:', scores1)\n",
    "print('mean r2:',np.mean(scores1))"
   ]
  },
  {
   "cell_type": "markdown",
   "metadata": {},
   "source": [
    "This model including only the day of the year and the day of the year squared explains 22% of the variation in daily rentals. "
   ]
  },
  {
   "cell_type": "markdown",
   "metadata": {},
   "source": [
    "__Model 2__: Time, time<sup>2</sup>, daily max temp, and daily min temp, and min/max temp squared (_6 features_)"
   ]
  },
  {
   "cell_type": "code",
   "execution_count": 15,
   "metadata": {
    "collapsed": true
   },
   "outputs": [],
   "source": [
    "# model with daily mininum and maximum temperatures \n",
    "X2 = totals[['timeDelt', 'timeDelt_sq','tmax', 'tmin','tmax_sq','tmin_sq']]"
   ]
  },
  {
   "cell_type": "code",
   "execution_count": 16,
   "metadata": {},
   "outputs": [
    {
     "data": {
      "text/plain": [
       "LinearRegression(copy_X=True, fit_intercept=True, n_jobs=1, normalize=True)"
      ]
     },
     "execution_count": 16,
     "metadata": {},
     "output_type": "execute_result"
    }
   ],
   "source": [
    "lr2 = LinearRegression(normalize=True)\n",
    "lr2.fit(X2, y)"
   ]
  },
  {
   "cell_type": "code",
   "execution_count": 17,
   "metadata": {},
   "outputs": [
    {
     "name": "stdout",
     "output_type": "stream",
     "text": [
      "r2 scores: [-0.62169818 -0.21154754 -0.0877183  -0.19531387  0.0230425 ]\n",
      "mean r2: -0.218647078539\n"
     ]
    }
   ],
   "source": [
    "scores2 = cross_val_score(lr2, X2, y, cv=5, scoring='r2')\n",
    "print('r2 scores:', scores2)\n",
    "print('mean r2:',np.mean(scores2))"
   ]
  },
  {
   "cell_type": "markdown",
   "metadata": {},
   "source": [
    "This model also includes daily maximum and minimum temperature, and seems to only explain 21% of the variance."
   ]
  },
  {
   "cell_type": "markdown",
   "metadata": {},
   "source": [
    "__Model 3__: Time, time<sup>2</sup>, daily max temp, daily min temp, square of daily min/max temp, day of the week (7 dummy variables), holiday indicator (_14 features_)"
   ]
  },
  {
   "cell_type": "code",
   "execution_count": 18,
   "metadata": {
    "collapsed": true
   },
   "outputs": [],
   "source": [
    "## model with daily mininum and maximum temperatures, weekday dummies, and holiday indicator\n",
    "X3 = totals[['timeDelt', 'timeDelt_sq','tmax', 'tmin','tmax_sq','tmax_sq',\n",
    "             'day_0','day_1','day_2','day_3','day_4','day_5','holiday']]"
   ]
  },
  {
   "cell_type": "code",
   "execution_count": 19,
   "metadata": {},
   "outputs": [
    {
     "data": {
      "text/plain": [
       "LinearRegression(copy_X=True, fit_intercept=True, n_jobs=1, normalize=True)"
      ]
     },
     "execution_count": 19,
     "metadata": {},
     "output_type": "execute_result"
    }
   ],
   "source": [
    "lr3 = LinearRegression(normalize=True)\n",
    "lr3.fit(X3, y)"
   ]
  },
  {
   "cell_type": "code",
   "execution_count": 20,
   "metadata": {},
   "outputs": [
    {
     "name": "stdout",
     "output_type": "stream",
     "text": [
      "r2 scores: [-0.47328877 -0.01040266 -0.12089005 -0.15325834  0.07529169]\n",
      "mean r2: -0.136509627096\n"
     ]
    }
   ],
   "source": [
    "scores3 = cross_val_score(lr3, X3, y, cv=5, scoring='r2')\n",
    "print('r2 scores:', scores3)\n",
    "print('mean r2:', np.mean(scores3))"
   ]
  },
  {
   "cell_type": "markdown",
   "metadata": {},
   "source": [
    "This final model that includes the day of the week and holiday indicator seems to be the worst predictor of daily totals only explaining 13% of the variance. "
   ]
  },
  {
   "cell_type": "markdown",
   "metadata": {},
   "source": [
    "#### Model comparison and predictions\n",
    "After calling ```.predict``` on the three models above, let's plot the actual 2016 and the predicted values from the models."
   ]
  },
  {
   "cell_type": "code",
   "execution_count": 21,
   "metadata": {
    "collapsed": true
   },
   "outputs": [],
   "source": [
    "#predictions\n",
    "totals['predicted1'] = lr1.predict(X1)\n",
    "totals['predicted2'] = lr2.predict(X2)\n",
    "totals['predicted3'] = lr3.predict(X3)"
   ]
  },
  {
   "cell_type": "code",
   "execution_count": 22,
   "metadata": {},
   "outputs": [
    {
     "data": {
      "text/plain": [
       "<matplotlib.axes._subplots.AxesSubplot at 0x1022a19b0>"
      ]
     },
     "execution_count": 22,
     "metadata": {},
     "output_type": "execute_result"
    },
    {
     "data": {
      "image/png": "[encoded data removed]",
      "text/plain": [
       "<matplotlib.figure.Figure at 0x10ef15940>"
      ]
     },
     "metadata": {},
     "output_type": "display_data"
    }
   ],
   "source": [
    "#predicted vs. actual plots\n",
    "fig, axes = plt.subplots(1,3, sharey=True)\n",
    "fig.set_size_inches(15,5)\n",
    "axes[0].set_ylabel('Daily rentals',fontsize=15)\n",
    "axes[0].set_xlabel('Day of the year (1 to 365)',fontsize=15)\n",
    "axes[1].set_xlabel('Day of the year (1 to 365)',fontsize=15)\n",
    "axes[2].set_xlabel('Day of the year (1 to 365)',fontsize=15)\n",
    "totals[['totalRents', 'predicted1']].plot(alpha=0.5, ax=axes[0])\n",
    "totals[['totalRents', 'predicted2']].plot(alpha=0.5, ax=axes[1])\n",
    "totals[['totalRents', 'predicted3']].plot(alpha=0.5, ax=axes[2])"
   ]
  },
  {
   "cell_type": "code",
   "execution_count": 23,
   "metadata": {
    "scrolled": true
   },
   "outputs": [
    {
     "data": {
      "text/plain": [
       "timeDelt         60.320358\n",
       "timeDelt_sq      -0.151899\n",
       "tmax            214.167351\n",
       "tmin            -37.845908\n",
       "tmax_sq          -0.429639\n",
       "tmax_sq          -0.429639\n",
       "day_0           861.686477\n",
       "day_1          1442.254966\n",
       "day_2          1567.654457\n",
       "day_3          1318.314488\n",
       "day_4          1496.170624\n",
       "day_5           545.952196\n",
       "holiday           0.000000\n",
       "dtype: float64"
      ]
     },
     "execution_count": 23,
     "metadata": {},
     "output_type": "execute_result"
    }
   ],
   "source": [
    "params = pd.Series(lr3.coef_, index=X3.columns)\n",
    "params"
   ]
  },
  {
   "cell_type": "markdown",
   "metadata": {},
   "source": [
    "Attempt Ridge Regression:"
   ]
  },
  {
   "cell_type": "code",
   "execution_count": 41,
   "metadata": {
    "collapsed": true
   },
   "outputs": [],
   "source": [
    "from sklearn.linear_model import Ridge\n",
    "from sklearn.linear_model import RidgeCV\n",
    "\n",
    "ridge = RidgeCV(normalize=True, store_cv_values=True)"
   ]
  },
  {
   "cell_type": "code",
   "execution_count": 42,
   "metadata": {},
   "outputs": [
    {
     "data": {
      "text/plain": [
       "RidgeCV(alphas=(0.1, 1.0, 10.0), cv=None, fit_intercept=True, gcv_mode=None,\n",
       "    normalize=True, scoring=None, store_cv_values=True)"
      ]
     },
     "execution_count": 42,
     "metadata": {},
     "output_type": "execute_result"
    }
   ],
   "source": [
    "ridge"
   ]
  },
  {
   "cell_type": "code",
   "execution_count": 43,
   "metadata": {},
   "outputs": [
    {
     "data": {
      "text/plain": [
       "RidgeCV(alphas=(0.1, 1.0, 10.0), cv=None, fit_intercept=True, gcv_mode=None,\n",
       "    normalize=True, scoring=None, store_cv_values=True)"
      ]
     },
     "execution_count": 43,
     "metadata": {},
     "output_type": "execute_result"
    }
   ],
   "source": [
    "ridge.fit(X3, y)"
   ]
  },
  {
   "cell_type": "code",
   "execution_count": 44,
   "metadata": {},
   "outputs": [
    {
     "data": {
      "text/plain": [
       "array([[ 16460060.59541451,  19639945.34845772,  29331384.00473665],\n",
       "       [    69047.34307402,   1538589.17451609,  10699479.48789551],\n",
       "       [   101967.39217307,   2312375.01686958,  10981894.03737218],\n",
       "       ..., \n",
       "       [  7532457.90054946,  10069971.31401723,  18813171.61980489],\n",
       "       [  7336295.40652151,   9590046.25097923,  17499924.36583484],\n",
       "       [  4902297.14267687,   9882593.74596198,  25797118.67591717]])"
      ]
     },
     "execution_count": 44,
     "metadata": {},
     "output_type": "execute_result"
    }
   ],
   "source": [
    "ridge.cv_values_"
   ]
  },
  {
   "cell_type": "code",
   "execution_count": 45,
   "metadata": {},
   "outputs": [
    {
     "data": {
      "text/plain": [
       "0.10000000000000001"
      ]
     },
     "execution_count": 45,
     "metadata": {},
     "output_type": "execute_result"
    }
   ],
   "source": [
    "ridge.alpha_"
   ]
  }
 ],
 "metadata": {
  "kernelspec": {
   "display_name": "Python 3",
   "language": "python",
   "name": "python3"
  },
  "language_info": {
   "codemirror_mode": {
    "name": "ipython",
    "version": 3
   },
   "file_extension": ".py",
   "mimetype": "text/x-python",
   "name": "python",
   "nbconvert_exporter": "python",
   "pygments_lexer": "ipython3",
   "version": "3.6.1"
  }
 },
 "nbformat": 4,
 "nbformat_minor": 2
}
