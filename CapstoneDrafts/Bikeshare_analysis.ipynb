{
 "cells": [
  {
   "cell_type": "markdown",
   "metadata": {},
   "source": [
    "## Machine Learning: bikeshare data for Capstone 1"
   ]
  },
  {
   "cell_type": "markdown",
   "metadata": {},
   "source": [
    "Let's start by adding the rest of 2016 data.\n",
    "\n",
    "As a reminder, the data can be found here, https://s3.amazonaws.com/capitalbikeshare-data/index.html."
   ]
  },
  {
   "cell_type": "code",
   "execution_count": 2,
   "metadata": {
    "collapsed": true
   },
   "outputs": [],
   "source": [
    "import pandas as pd\n",
    "import numpy as np\n",
    "import matplotlib.pyplot as plt\n",
    "import seaborn as sns\n",
    "import scipy.stats as stats\n",
    "%matplotlib inline\n",
    "\n",
    "Q1 = pd.read_csv('../CapstoneDrafts/data/2016Q1-capitalbikeshare-tripdata.csv', \n",
    "                        parse_dates=True, index_col=1, header=0,\n",
    "                        names=['duration','enddate','startlocID','startloc','endlocID','endloc','bikeID','memtype'])\n",
    "Q2 = pd.read_csv('../CapstoneDrafts/data/2016Q2-capitalbikeshare-tripdata.csv', \n",
    "                        parse_dates=True, index_col=1, header=0,\n",
    "                        names=['duration','enddate','startlocID','startloc','endlocID','endloc','bikeID','memtype'])\n",
    "Q3 = pd.read_csv('../CapstoneDrafts/data/2016Q3-capitalbikeshare-tripdata.csv', \n",
    "                        parse_dates=True, index_col=1, header=0,\n",
    "                        names=['duration','enddate','startlocID','startloc','endlocID','endloc','bikeID','memtype'])\n",
    "Q4 = pd.read_csv('../CapstoneDrafts/data/2016Q4-capitalbikeshare-tripdata.csv', \n",
    "                        parse_dates=True, index_col=1, header=0,\n",
    "                        names=['duration','enddate','startlocID','startloc','endlocID','endloc','bikeID','memtype'])"
   ]
  },
  {
   "cell_type": "code",
   "execution_count": 4,
   "metadata": {},
   "outputs": [
    {
     "name": "stdout",
     "output_type": "stream",
     "text": [
      "Number of rows in the dataset for 2016: 3333994\n"
     ]
    },
    {
     "data": {
      "text/html": [
       "<div>\n",
       "<style>\n",
       "    .dataframe thead tr:only-child th {\n",
       "        text-align: right;\n",
       "    }\n",
       "\n",
       "    .dataframe thead th {\n",
       "        text-align: left;\n",
       "    }\n",
       "\n",
       "    .dataframe tbody tr th {\n",
       "        vertical-align: top;\n",
       "    }\n",
       "</style>\n",
       "<table border=\"1\" class=\"dataframe\">\n",
       "  <thead>\n",
       "    <tr style=\"text-align: right;\">\n",
       "      <th></th>\n",
       "      <th>duration</th>\n",
       "      <th>enddate</th>\n",
       "      <th>startlocID</th>\n",
       "      <th>startloc</th>\n",
       "      <th>endlocID</th>\n",
       "      <th>endloc</th>\n",
       "      <th>bikeID</th>\n",
       "      <th>memtype</th>\n",
       "    </tr>\n",
       "  </thead>\n",
       "  <tbody>\n",
       "    <tr>\n",
       "      <th>2016-01-01 00:06:58</th>\n",
       "      <td>166</td>\n",
       "      <td>2016-01-01 00:09:44</td>\n",
       "      <td>31102</td>\n",
       "      <td>11th &amp; Kenyon St NW</td>\n",
       "      <td>31105</td>\n",
       "      <td>14th &amp; Harvard St NW</td>\n",
       "      <td>W01346</td>\n",
       "      <td>Member</td>\n",
       "    </tr>\n",
       "    <tr>\n",
       "      <th>2016-01-01 00:10:20</th>\n",
       "      <td>448</td>\n",
       "      <td>2016-01-01 00:17:48</td>\n",
       "      <td>32039</td>\n",
       "      <td>Old Georgetown Rd &amp; Southwick St</td>\n",
       "      <td>32002</td>\n",
       "      <td>Bethesda Ave &amp; Arlington Rd</td>\n",
       "      <td>W22202</td>\n",
       "      <td>Member</td>\n",
       "    </tr>\n",
       "    <tr>\n",
       "      <th>2016-01-01 00:13:52</th>\n",
       "      <td>715</td>\n",
       "      <td>2016-01-01 00:25:48</td>\n",
       "      <td>31222</td>\n",
       "      <td>New York Ave &amp; 15th St NW</td>\n",
       "      <td>31214</td>\n",
       "      <td>17th &amp; Corcoran St NW</td>\n",
       "      <td>W21427</td>\n",
       "      <td>Member</td>\n",
       "    </tr>\n",
       "    <tr>\n",
       "      <th>2016-01-01 00:15:29</th>\n",
       "      <td>213</td>\n",
       "      <td>2016-01-01 00:19:03</td>\n",
       "      <td>31506</td>\n",
       "      <td>1st &amp; Rhode Island Ave NW</td>\n",
       "      <td>31509</td>\n",
       "      <td>New Jersey Ave &amp; R St NW</td>\n",
       "      <td>W01294</td>\n",
       "      <td>Member</td>\n",
       "    </tr>\n",
       "    <tr>\n",
       "      <th>2016-01-01 00:16:16</th>\n",
       "      <td>872</td>\n",
       "      <td>2016-01-01 00:30:49</td>\n",
       "      <td>31041</td>\n",
       "      <td>Prince St &amp; Union St</td>\n",
       "      <td>31048</td>\n",
       "      <td>King St Metro South</td>\n",
       "      <td>W22058</td>\n",
       "      <td>Member</td>\n",
       "    </tr>\n",
       "  </tbody>\n",
       "</table>\n",
       "</div>"
      ],
      "text/plain": [
       "                     duration              enddate  startlocID  \\\n",
       "2016-01-01 00:06:58       166  2016-01-01 00:09:44       31102   \n",
       "2016-01-01 00:10:20       448  2016-01-01 00:17:48       32039   \n",
       "2016-01-01 00:13:52       715  2016-01-01 00:25:48       31222   \n",
       "2016-01-01 00:15:29       213  2016-01-01 00:19:03       31506   \n",
       "2016-01-01 00:16:16       872  2016-01-01 00:30:49       31041   \n",
       "\n",
       "                                             startloc  endlocID  \\\n",
       "2016-01-01 00:06:58               11th & Kenyon St NW     31105   \n",
       "2016-01-01 00:10:20  Old Georgetown Rd & Southwick St     32002   \n",
       "2016-01-01 00:13:52         New York Ave & 15th St NW     31214   \n",
       "2016-01-01 00:15:29         1st & Rhode Island Ave NW     31509   \n",
       "2016-01-01 00:16:16              Prince St & Union St     31048   \n",
       "\n",
       "                                          endloc  bikeID memtype  \n",
       "2016-01-01 00:06:58         14th & Harvard St NW  W01346  Member  \n",
       "2016-01-01 00:10:20  Bethesda Ave & Arlington Rd  W22202  Member  \n",
       "2016-01-01 00:13:52        17th & Corcoran St NW  W21427  Member  \n",
       "2016-01-01 00:15:29     New Jersey Ave & R St NW  W01294  Member  \n",
       "2016-01-01 00:16:16          King St Metro South  W22058  Member  "
      ]
     },
     "execution_count": 4,
     "metadata": {},
     "output_type": "execute_result"
    }
   ],
   "source": [
    "bike2016 = Q1.append([Q2,Q3,Q4])\n",
    "bike2016.duration = bike2016.duration\n",
    "print('Number of rows in the dataset for 2016:',len(bike2016))\n",
    "bike2016.head()"
   ]
  },
  {
   "cell_type": "markdown",
   "metadata": {},
   "source": [
    "#### Read 2015 data"
   ]
  },
  {
   "cell_type": "code",
   "execution_count": 6,
   "metadata": {},
   "outputs": [],
   "source": [
    "#2015\n",
    "Q1_2015 = pd.read_csv('../CapstoneDrafts/data/2015Q1-capitalbikeshare-tripdata.csv', \n",
    "                        parse_dates=True, index_col=1, header=0,\n",
    "                        names=['duration','enddate','startlocID','startloc','endlocID','endloc','bikeID','memtype'])\n",
    "Q2_2015 = pd.read_csv('../CapstoneDrafts/data/2015Q2-capitalbikeshare-tripdata.csv', \n",
    "                        parse_dates=True, index_col=1, header=0,\n",
    "                        names=['duration','enddate','startlocID','startloc','endlocID','endloc','bikeID','memtype'])\n",
    "Q3_2015 = pd.read_csv('../CapstoneDrafts/data/2015Q3-capitalbikeshare-tripdata.csv', \n",
    "                        parse_dates=True, index_col=1, header=0,\n",
    "                        names=['duration','enddate','startlocID','startloc','endlocID','endloc','bikeID','memtype'])\n",
    "Q4_2015 = pd.read_csv('../CapstoneDrafts/data/2015Q4-capitalbikeshare-tripdata.csv', \n",
    "                        parse_dates=True, index_col=1, header=0,\n",
    "                        names=['duration','enddate','startlocID','startloc','endlocID','endloc','bikeID','memtype'])"
   ]
  },
  {
   "cell_type": "code",
   "execution_count": 7,
   "metadata": {},
   "outputs": [
    {
     "name": "stdout",
     "output_type": "stream",
     "text": [
      "Number of rows in the dataset for 2015: 3185906\n"
     ]
    },
    {
     "data": {
      "text/html": [
       "<div>\n",
       "<style>\n",
       "    .dataframe thead tr:only-child th {\n",
       "        text-align: right;\n",
       "    }\n",
       "\n",
       "    .dataframe thead th {\n",
       "        text-align: left;\n",
       "    }\n",
       "\n",
       "    .dataframe tbody tr th {\n",
       "        vertical-align: top;\n",
       "    }\n",
       "</style>\n",
       "<table border=\"1\" class=\"dataframe\">\n",
       "  <thead>\n",
       "    <tr style=\"text-align: right;\">\n",
       "      <th></th>\n",
       "      <th>duration</th>\n",
       "      <th>enddate</th>\n",
       "      <th>startlocID</th>\n",
       "      <th>startloc</th>\n",
       "      <th>endlocID</th>\n",
       "      <th>endloc</th>\n",
       "      <th>bikeID</th>\n",
       "      <th>memtype</th>\n",
       "    </tr>\n",
       "  </thead>\n",
       "  <tbody>\n",
       "    <tr>\n",
       "      <th>2015-01-01 00:02:44</th>\n",
       "      <td>2389</td>\n",
       "      <td>2015-01-01 00:42:33</td>\n",
       "      <td>31271</td>\n",
       "      <td>Constitution Ave &amp; 2nd St NW/DOL</td>\n",
       "      <td>31254</td>\n",
       "      <td>15th &amp; K St NW</td>\n",
       "      <td>W01140</td>\n",
       "      <td>Casual</td>\n",
       "    </tr>\n",
       "    <tr>\n",
       "      <th>2015-01-01 00:02:46</th>\n",
       "      <td>2394</td>\n",
       "      <td>2015-01-01 00:42:41</td>\n",
       "      <td>31271</td>\n",
       "      <td>Constitution Ave &amp; 2nd St NW/DOL</td>\n",
       "      <td>31254</td>\n",
       "      <td>15th &amp; K St NW</td>\n",
       "      <td>W00612</td>\n",
       "      <td>Casual</td>\n",
       "    </tr>\n",
       "    <tr>\n",
       "      <th>2015-01-01 00:04:32</th>\n",
       "      <td>468</td>\n",
       "      <td>2015-01-01 00:12:20</td>\n",
       "      <td>31204</td>\n",
       "      <td>20th &amp; E St NW</td>\n",
       "      <td>31234</td>\n",
       "      <td>20th &amp; O St NW / Dupont South</td>\n",
       "      <td>W01226</td>\n",
       "      <td>Member</td>\n",
       "    </tr>\n",
       "    <tr>\n",
       "      <th>2015-01-01 00:07:18</th>\n",
       "      <td>348</td>\n",
       "      <td>2015-01-01 00:13:06</td>\n",
       "      <td>31602</td>\n",
       "      <td>Park Rd &amp; Holmead Pl NW</td>\n",
       "      <td>31117</td>\n",
       "      <td>15th &amp; Euclid St  NW</td>\n",
       "      <td>W20216</td>\n",
       "      <td>Member</td>\n",
       "    </tr>\n",
       "    <tr>\n",
       "      <th>2015-01-01 00:09:39</th>\n",
       "      <td>980</td>\n",
       "      <td>2015-01-01 00:26:00</td>\n",
       "      <td>31247</td>\n",
       "      <td>Jefferson Dr &amp; 14th St SW</td>\n",
       "      <td>31241</td>\n",
       "      <td>Thomas Circle</td>\n",
       "      <td>W21005</td>\n",
       "      <td>Casual</td>\n",
       "    </tr>\n",
       "  </tbody>\n",
       "</table>\n",
       "</div>"
      ],
      "text/plain": [
       "                     duration              enddate  startlocID  \\\n",
       "2015-01-01 00:02:44      2389  2015-01-01 00:42:33       31271   \n",
       "2015-01-01 00:02:46      2394  2015-01-01 00:42:41       31271   \n",
       "2015-01-01 00:04:32       468  2015-01-01 00:12:20       31204   \n",
       "2015-01-01 00:07:18       348  2015-01-01 00:13:06       31602   \n",
       "2015-01-01 00:09:39       980  2015-01-01 00:26:00       31247   \n",
       "\n",
       "                                             startloc  endlocID  \\\n",
       "2015-01-01 00:02:44  Constitution Ave & 2nd St NW/DOL     31254   \n",
       "2015-01-01 00:02:46  Constitution Ave & 2nd St NW/DOL     31254   \n",
       "2015-01-01 00:04:32                    20th & E St NW     31234   \n",
       "2015-01-01 00:07:18           Park Rd & Holmead Pl NW     31117   \n",
       "2015-01-01 00:09:39         Jefferson Dr & 14th St SW     31241   \n",
       "\n",
       "                                            endloc  bikeID memtype  \n",
       "2015-01-01 00:02:44                 15th & K St NW  W01140  Casual  \n",
       "2015-01-01 00:02:46                 15th & K St NW  W00612  Casual  \n",
       "2015-01-01 00:04:32  20th & O St NW / Dupont South  W01226  Member  \n",
       "2015-01-01 00:07:18           15th & Euclid St  NW  W20216  Member  \n",
       "2015-01-01 00:09:39                  Thomas Circle  W21005  Casual  "
      ]
     },
     "execution_count": 7,
     "metadata": {},
     "output_type": "execute_result"
    }
   ],
   "source": [
    "#merge 2015\n",
    "bike2015 = Q1_2015.append([Q2_2015,Q3_2015,Q4_2015])\n",
    "bike2015.duration = bike2015.duration\n",
    "print('Number of rows in the dataset for 2015:',len(bike2015))\n",
    "bike2015.head()"
   ]
  },
  {
   "cell_type": "code",
   "execution_count": 8,
   "metadata": {
    "scrolled": true
   },
   "outputs": [
    {
     "data": {
      "text/plain": [
       "<matplotlib.text.Text at 0x12a7c1710>"
      ]
     },
     "execution_count": 8,
     "metadata": {},
     "output_type": "execute_result"
    },
    {
     "data": {
      "image/png": "[encoded data removed]",
      "text/plain": [
       "<matplotlib.figure.Figure at 0x132e556d8>"
      ]
     },
     "metadata": {},
     "output_type": "display_data"
    }
   ],
   "source": [
    "fig, ax = plt.subplots(1, 1)\n",
    "fig.set_size_inches(14,5)\n",
    "duration = bike2016['duration']\n",
    "smoothed = duration.resample('D').mean().rolling(window=12, min_periods=1).mean()\n",
    "smoothed.plot(ax=ax)\n",
    "ax.set_xlabel('Day',fontsize=15)\n",
    "ax.set_ylabel('Rental Duration (m)',fontsize=15)"
   ]
  },
  {
   "cell_type": "markdown",
   "metadata": {},
   "source": [
    "Are there different durations for registered versus casual members?"
   ]
  },
  {
   "cell_type": "code",
   "execution_count": 9,
   "metadata": {
    "collapsed": true
   },
   "outputs": [],
   "source": [
    "durationReg = bike2016['duration'][bike2016['memtype']=='Member']\n",
    "durationCas = bike2016['duration'][bike2016['memtype']=='Casual']\n",
    "\n",
    "smoothedReg = durationReg.resample('D').mean().rolling(window=12, min_periods=1).mean()\n",
    "smoothedCas = durationCas.resample('D').mean().rolling(window=12, min_periods=1).mean()"
   ]
  },
  {
   "cell_type": "code",
   "execution_count": 10,
   "metadata": {},
   "outputs": [
    {
     "data": {
      "text/plain": [
       "<matplotlib.legend.Legend at 0x11ebdf898>"
      ]
     },
     "execution_count": 10,
     "metadata": {},
     "output_type": "execute_result"
    },
    {
     "data": {
      "image/png": "[encoded data removed]",
      "text/plain": [
       "<matplotlib.figure.Figure at 0x11ed2d8d0>"
      ]
     },
     "metadata": {},
     "output_type": "display_data"
    }
   ],
   "source": [
    "fig, ax = plt.subplots(1)\n",
    "fig.set_size_inches(14,5)\n",
    "ax.plot(smoothedReg, label='Registered')\n",
    "ax.plot(smoothedCas, label='Casual')\n",
    "ax.set_xlabel('Day',fontsize=20)\n",
    "ax.set_ylabel('Rental Duration (m)',fontsize=20)\n",
    "fig.suptitle('Duration of rentals by user type', fontsize=22)\n",
    "ax.legend(fontsize=15)\n",
    "#plt.savefig('bike_rolling_type',bbox_inches='tight',dpi=300)"
   ]
  },
  {
   "cell_type": "code",
   "execution_count": 12,
   "metadata": {
    "collapsed": true
   },
   "outputs": [],
   "source": [
    "bike2016['startdate'] = bike2016.index\n",
    "bike2016['startweekday'] = bike2016['startdate'].apply(lambda d: d.weekday())"
   ]
  },
  {
   "cell_type": "code",
   "execution_count": 13,
   "metadata": {},
   "outputs": [
    {
     "data": {
      "text/plain": [
       "<matplotlib.text.Text at 0x16d75e780>"
      ]
     },
     "execution_count": 13,
     "metadata": {},
     "output_type": "execute_result"
    },
    {
     "data": {
      "image/png": "[encoded data removed]",
      "text/plain": [
       "<matplotlib.figure.Figure at 0x14b3f4748>"
      ]
     },
     "metadata": {},
     "output_type": "display_data"
    }
   ],
   "source": [
    "FreqReg=bike2016['startweekday'][bike2016['memtype']=='Member'].value_counts().sort_index()\n",
    "FreqCas=bike2016['startweekday'][bike2016['memtype']=='Casual'].value_counts().sort_index()\n",
    "ticks=['Mon','Tue','Wed','Thu','Fri','Sat','Sun'] \n",
    "fig, axes = plt.subplots(1, 2, sharey=True)\n",
    "fig.set_size_inches(12,8)\n",
    "FreqReg.plot(kind='bar', ax=axes[0],title='Member',fontsize=14)\n",
    "FreqCas.plot(kind='bar', ax=axes[1],title='Casual',fontsize=14)\n",
    "axes[0].set_xticklabels(ticks)\n",
    "axes[1].set_xticklabels(ticks)\n",
    "fig.suptitle('Frequency of rentals by user type', fontsize=25)\n",
    "axes[0].set_xlabel('Day of the Week',fontsize=20)\n",
    "axes[0].set_ylabel('Rental Frequency',fontsize=20)\n",
    "axes[1].set_xlabel('Day of the Week',fontsize=20)\n",
    "#plt.savefig('bike_histo_type',bbox='tight',dpi=300)"
   ]
  },
  {
   "cell_type": "markdown",
   "metadata": {},
   "source": [
    "## Analysis Steps"
   ]
  },
  {
   "cell_type": "markdown",
   "metadata": {},
   "source": [
    "- Predict demand (# of rentals) on a given day (e.g. for 2017) \n",
    "    - linear regression/SVM\n",
    "    - X: julian day; y: count/day\n",
    "    - could add X: daily max temp, daily min temp, proximity to metro station\n",
    "- Predict demand on a given day by station ID\n",
    "    - linear regression/SVM\n",
    "    - X: julian day, staion ID; y: count/day/station\n",
    "    - coul add X: daily max temp, daily min temp, proximity to metro station\n"
   ]
  },
  {
   "cell_type": "markdown",
   "metadata": {},
   "source": [
    "#### DC Metro Stations"
   ]
  },
  {
   "cell_type": "code",
   "execution_count": 14,
   "metadata": {},
   "outputs": [
    {
     "name": "stdout",
     "output_type": "stream",
     "text": [
      "Number of stations: 95\n"
     ]
    },
    {
     "data": {
      "text/html": [
       "<div>\n",
       "<style>\n",
       "    .dataframe thead tr:only-child th {\n",
       "        text-align: right;\n",
       "    }\n",
       "\n",
       "    .dataframe thead th {\n",
       "        text-align: left;\n",
       "    }\n",
       "\n",
       "    .dataframe tbody tr th {\n",
       "        vertical-align: top;\n",
       "    }\n",
       "</style>\n",
       "<table border=\"1\" class=\"dataframe\">\n",
       "  <thead>\n",
       "    <tr style=\"text-align: right;\">\n",
       "      <th></th>\n",
       "      <th>Address.City</th>\n",
       "      <th>Address.State</th>\n",
       "      <th>Address.Street</th>\n",
       "      <th>Address.Zip</th>\n",
       "      <th>Code</th>\n",
       "      <th>Lat</th>\n",
       "      <th>LineCode1</th>\n",
       "      <th>LineCode2</th>\n",
       "      <th>LineCode3</th>\n",
       "      <th>LineCode4</th>\n",
       "      <th>Lon</th>\n",
       "      <th>Name</th>\n",
       "      <th>StationTogether1</th>\n",
       "      <th>StationTogether2</th>\n",
       "    </tr>\n",
       "  </thead>\n",
       "  <tbody>\n",
       "    <tr>\n",
       "      <th>0</th>\n",
       "      <td>Washington</td>\n",
       "      <td>DC</td>\n",
       "      <td>607 13th St. NW</td>\n",
       "      <td>20005</td>\n",
       "      <td>A01</td>\n",
       "      <td>38.898303</td>\n",
       "      <td>RD</td>\n",
       "      <td>None</td>\n",
       "      <td>None</td>\n",
       "      <td>None</td>\n",
       "      <td>-77.028099</td>\n",
       "      <td>Metro Center</td>\n",
       "      <td>C01</td>\n",
       "      <td></td>\n",
       "    </tr>\n",
       "    <tr>\n",
       "      <th>1</th>\n",
       "      <td>Washington</td>\n",
       "      <td>DC</td>\n",
       "      <td>1001 Connecticut Avenue NW</td>\n",
       "      <td>20036</td>\n",
       "      <td>A02</td>\n",
       "      <td>38.903192</td>\n",
       "      <td>RD</td>\n",
       "      <td>None</td>\n",
       "      <td>None</td>\n",
       "      <td>None</td>\n",
       "      <td>-77.039766</td>\n",
       "      <td>Farragut North</td>\n",
       "      <td></td>\n",
       "      <td></td>\n",
       "    </tr>\n",
       "    <tr>\n",
       "      <th>2</th>\n",
       "      <td>Washington</td>\n",
       "      <td>DC</td>\n",
       "      <td>1525 20th St. NW</td>\n",
       "      <td>20036</td>\n",
       "      <td>A03</td>\n",
       "      <td>38.909499</td>\n",
       "      <td>RD</td>\n",
       "      <td>None</td>\n",
       "      <td>None</td>\n",
       "      <td>None</td>\n",
       "      <td>-77.043620</td>\n",
       "      <td>Dupont Circle</td>\n",
       "      <td></td>\n",
       "      <td></td>\n",
       "    </tr>\n",
       "    <tr>\n",
       "      <th>3</th>\n",
       "      <td>Washington</td>\n",
       "      <td>DC</td>\n",
       "      <td>2700 Connecticut Ave., NW</td>\n",
       "      <td>20008</td>\n",
       "      <td>A04</td>\n",
       "      <td>38.924999</td>\n",
       "      <td>RD</td>\n",
       "      <td>None</td>\n",
       "      <td>None</td>\n",
       "      <td>None</td>\n",
       "      <td>-77.052648</td>\n",
       "      <td>Woodley Park-Zoo/Adams Morgan</td>\n",
       "      <td></td>\n",
       "      <td></td>\n",
       "    </tr>\n",
       "    <tr>\n",
       "      <th>4</th>\n",
       "      <td>Washington</td>\n",
       "      <td>DC</td>\n",
       "      <td>3599 Connecticut Avenue NW</td>\n",
       "      <td>20008</td>\n",
       "      <td>A05</td>\n",
       "      <td>38.934703</td>\n",
       "      <td>RD</td>\n",
       "      <td>None</td>\n",
       "      <td>None</td>\n",
       "      <td>None</td>\n",
       "      <td>-77.058226</td>\n",
       "      <td>Cleveland Park</td>\n",
       "      <td></td>\n",
       "      <td></td>\n",
       "    </tr>\n",
       "  </tbody>\n",
       "</table>\n",
       "</div>"
      ],
      "text/plain": [
       "  Address.City Address.State              Address.Street Address.Zip Code  \\\n",
       "0   Washington            DC             607 13th St. NW       20005  A01   \n",
       "1   Washington            DC  1001 Connecticut Avenue NW       20036  A02   \n",
       "2   Washington            DC            1525 20th St. NW       20036  A03   \n",
       "3   Washington            DC   2700 Connecticut Ave., NW       20008  A04   \n",
       "4   Washington            DC  3599 Connecticut Avenue NW       20008  A05   \n",
       "\n",
       "         Lat LineCode1 LineCode2 LineCode3 LineCode4        Lon  \\\n",
       "0  38.898303        RD      None      None      None -77.028099   \n",
       "1  38.903192        RD      None      None      None -77.039766   \n",
       "2  38.909499        RD      None      None      None -77.043620   \n",
       "3  38.924999        RD      None      None      None -77.052648   \n",
       "4  38.934703        RD      None      None      None -77.058226   \n",
       "\n",
       "                            Name StationTogether1 StationTogether2  \n",
       "0                   Metro Center              C01                   \n",
       "1                 Farragut North                                    \n",
       "2                  Dupont Circle                                    \n",
       "3  Woodley Park-Zoo/Adams Morgan                                    \n",
       "4                 Cleveland Park                                    "
      ]
     },
     "execution_count": 14,
     "metadata": {},
     "output_type": "execute_result"
    }
   ],
   "source": [
    "#find metro station info (euclidian distance... find lat/long of metro stations)\n",
    "import json\n",
    "from pandas.io.json import json_normalize\n",
    "\n",
    "json_data=open('../CapstoneDrafts/data/stations2.json').read()\n",
    "metro=pd.read_json(json_data, orient='records')\n",
    "MetroDF = json_normalize(data=metro['Stations'])\n",
    "\n",
    "print('Number of stations:',len(MetroDF))\n",
    "MetroDF.head()"
   ]
  },
  {
   "cell_type": "markdown",
   "metadata": {},
   "source": [
    "This table contains all of the metro station information for DC. I won't include it in the analysis, but will leave it here in case it helps with interpretation later."
   ]
  },
  {
   "cell_type": "markdown",
   "metadata": {},
   "source": [
    "#### Weather"
   ]
  },
  {
   "cell_type": "code",
   "execution_count": 15,
   "metadata": {},
   "outputs": [
    {
     "data": {
      "text/html": [
       "<div>\n",
       "<style>\n",
       "    .dataframe thead tr:only-child th {\n",
       "        text-align: right;\n",
       "    }\n",
       "\n",
       "    .dataframe thead th {\n",
       "        text-align: left;\n",
       "    }\n",
       "\n",
       "    .dataframe tbody tr th {\n",
       "        vertical-align: top;\n",
       "    }\n",
       "</style>\n",
       "<table border=\"1\" class=\"dataframe\">\n",
       "  <thead>\n",
       "    <tr style=\"text-align: right;\">\n",
       "      <th></th>\n",
       "      <th>station</th>\n",
       "      <th>name</th>\n",
       "      <th>tmax</th>\n",
       "      <th>tmin</th>\n",
       "    </tr>\n",
       "    <tr>\n",
       "      <th>startdate</th>\n",
       "      <th></th>\n",
       "      <th></th>\n",
       "      <th></th>\n",
       "      <th></th>\n",
       "    </tr>\n",
       "  </thead>\n",
       "  <tbody>\n",
       "    <tr>\n",
       "      <th>2016-01-01</th>\n",
       "      <td>USC00186350</td>\n",
       "      <td>NATIONAL ARBORETUM DC, MD US</td>\n",
       "      <td>56.0</td>\n",
       "      <td>41.0</td>\n",
       "    </tr>\n",
       "    <tr>\n",
       "      <th>2016-01-02</th>\n",
       "      <td>USC00186350</td>\n",
       "      <td>NATIONAL ARBORETUM DC, MD US</td>\n",
       "      <td>46.0</td>\n",
       "      <td>31.0</td>\n",
       "    </tr>\n",
       "    <tr>\n",
       "      <th>2016-01-03</th>\n",
       "      <td>USC00186350</td>\n",
       "      <td>NATIONAL ARBORETUM DC, MD US</td>\n",
       "      <td>48.0</td>\n",
       "      <td>29.0</td>\n",
       "    </tr>\n",
       "    <tr>\n",
       "      <th>2016-01-04</th>\n",
       "      <td>USC00186350</td>\n",
       "      <td>NATIONAL ARBORETUM DC, MD US</td>\n",
       "      <td>53.0</td>\n",
       "      <td>29.0</td>\n",
       "    </tr>\n",
       "    <tr>\n",
       "      <th>2016-01-05</th>\n",
       "      <td>USC00186350</td>\n",
       "      <td>NATIONAL ARBORETUM DC, MD US</td>\n",
       "      <td>38.0</td>\n",
       "      <td>15.0</td>\n",
       "    </tr>\n",
       "  </tbody>\n",
       "</table>\n",
       "</div>"
      ],
      "text/plain": [
       "                station                          name  tmax  tmin\n",
       "startdate                                                        \n",
       "2016-01-01  USC00186350  NATIONAL ARBORETUM DC, MD US  56.0  41.0\n",
       "2016-01-02  USC00186350  NATIONAL ARBORETUM DC, MD US  46.0  31.0\n",
       "2016-01-03  USC00186350  NATIONAL ARBORETUM DC, MD US  48.0  29.0\n",
       "2016-01-04  USC00186350  NATIONAL ARBORETUM DC, MD US  53.0  29.0\n",
       "2016-01-05  USC00186350  NATIONAL ARBORETUM DC, MD US  38.0  15.0"
      ]
     },
     "execution_count": 15,
     "metadata": {},
     "output_type": "execute_result"
    }
   ],
   "source": [
    "# find and add weather data (daily max & min)\n",
    "weather = pd.read_csv('../CapstoneDrafts/data/dc_weather.csv', parse_dates=True, index_col=2, header=0,\n",
    "                        names=['station','name','startdate','tmax','tmin'])\n",
    "weather.head()"
   ]
  },
  {
   "cell_type": "code",
   "execution_count": 16,
   "metadata": {},
   "outputs": [
    {
     "name": "stdout",
     "output_type": "stream",
     "text": [
      "<class 'pandas.core.frame.DataFrame'>\n",
      "DatetimeIndex: 7186 entries, 2016-01-01 to NaT\n",
      "Data columns (total 4 columns):\n",
      "station    726 non-null object\n",
      "name       726 non-null object\n",
      "tmax       726 non-null float64\n",
      "tmin       724 non-null float64\n",
      "dtypes: float64(2), object(2)\n",
      "memory usage: 280.7+ KB\n"
     ]
    }
   ],
   "source": [
    "weather.info()"
   ]
  },
  {
   "cell_type": "markdown",
   "metadata": {},
   "source": [
    "These data are weather for 2016 in DC at the National Arboretum weather station. I gathered this data from NOAA's National Climate Data Center, Climate Data Online request form. Each row contains maximum and minimum temperatures for a day in 2016, in Farenheit.  "
   ]
  },
  {
   "cell_type": "code",
   "execution_count": 17,
   "metadata": {},
   "outputs": [
    {
     "data": {
      "text/html": [
       "<div>\n",
       "<style>\n",
       "    .dataframe thead tr:only-child th {\n",
       "        text-align: right;\n",
       "    }\n",
       "\n",
       "    .dataframe thead th {\n",
       "        text-align: left;\n",
       "    }\n",
       "\n",
       "    .dataframe tbody tr th {\n",
       "        vertical-align: top;\n",
       "    }\n",
       "</style>\n",
       "<table border=\"1\" class=\"dataframe\">\n",
       "  <thead>\n",
       "    <tr style=\"text-align: right;\">\n",
       "      <th></th>\n",
       "      <th>tmax</th>\n",
       "      <th>tmin</th>\n",
       "    </tr>\n",
       "  </thead>\n",
       "  <tbody>\n",
       "    <tr>\n",
       "      <th>count</th>\n",
       "      <td>726.000000</td>\n",
       "      <td>724.000000</td>\n",
       "    </tr>\n",
       "    <tr>\n",
       "      <th>mean</th>\n",
       "      <td>69.096419</td>\n",
       "      <td>49.794199</td>\n",
       "    </tr>\n",
       "    <tr>\n",
       "      <th>std</th>\n",
       "      <td>17.915251</td>\n",
       "      <td>17.160633</td>\n",
       "    </tr>\n",
       "    <tr>\n",
       "      <th>min</th>\n",
       "      <td>24.000000</td>\n",
       "      <td>11.000000</td>\n",
       "    </tr>\n",
       "    <tr>\n",
       "      <th>25%</th>\n",
       "      <td>54.000000</td>\n",
       "      <td>35.750000</td>\n",
       "    </tr>\n",
       "    <tr>\n",
       "      <th>50%</th>\n",
       "      <td>72.000000</td>\n",
       "      <td>50.000000</td>\n",
       "    </tr>\n",
       "    <tr>\n",
       "      <th>75%</th>\n",
       "      <td>84.000000</td>\n",
       "      <td>66.000000</td>\n",
       "    </tr>\n",
       "    <tr>\n",
       "      <th>max</th>\n",
       "      <td>99.000000</td>\n",
       "      <td>81.000000</td>\n",
       "    </tr>\n",
       "  </tbody>\n",
       "</table>\n",
       "</div>"
      ],
      "text/plain": [
       "             tmax        tmin\n",
       "count  726.000000  724.000000\n",
       "mean    69.096419   49.794199\n",
       "std     17.915251   17.160633\n",
       "min     24.000000   11.000000\n",
       "25%     54.000000   35.750000\n",
       "50%     72.000000   50.000000\n",
       "75%     84.000000   66.000000\n",
       "max     99.000000   81.000000"
      ]
     },
     "execution_count": 17,
     "metadata": {},
     "output_type": "execute_result"
    }
   ],
   "source": [
    "weather.describe()"
   ]
  },
  {
   "cell_type": "markdown",
   "metadata": {},
   "source": [
    "Temperatures in DC (at the National Arboretum) rance from 11-99 F in 2016.  Average high temperature is 69 F and average low temperature is 50 F."
   ]
  },
  {
   "cell_type": "markdown",
   "metadata": {},
   "source": [
    "Temperature squared might be a better predictor, so let's also calculate that in the ```weather``` dataframe."
   ]
  },
  {
   "cell_type": "code",
   "execution_count": 18,
   "metadata": {
    "collapsed": true
   },
   "outputs": [],
   "source": [
    "weather['tmax_sq'] = weather['tmax'].apply(lambda t: t**2)\n",
    "weather['tmin_sq'] = weather['tmin'].apply(lambda t: t**2)"
   ]
  },
  {
   "cell_type": "markdown",
   "metadata": {},
   "source": [
    "#### Modeling a time component"
   ]
  },
  {
   "cell_type": "code",
   "execution_count": 19,
   "metadata": {
    "collapsed": true
   },
   "outputs": [],
   "source": [
    "#add time tracking column (days from 2016-01-01), break dates into month and day\n",
    "from datetime import datetime as dt\n",
    "starttime = dt.strptime('2016-01-01', '%Y-%m-%d')\n",
    "bike2016['timeDelt'] = bike2016['startdate'].apply(lambda d: (d - starttime).days)"
   ]
  },
  {
   "cell_type": "code",
   "execution_count": 20,
   "metadata": {},
   "outputs": [
    {
     "data": {
      "text/html": [
       "<div>\n",
       "<style>\n",
       "    .dataframe thead tr:only-child th {\n",
       "        text-align: right;\n",
       "    }\n",
       "\n",
       "    .dataframe thead th {\n",
       "        text-align: left;\n",
       "    }\n",
       "\n",
       "    .dataframe tbody tr th {\n",
       "        vertical-align: top;\n",
       "    }\n",
       "</style>\n",
       "<table border=\"1\" class=\"dataframe\">\n",
       "  <thead>\n",
       "    <tr style=\"text-align: right;\">\n",
       "      <th></th>\n",
       "      <th>duration</th>\n",
       "      <th>enddate</th>\n",
       "      <th>startlocID</th>\n",
       "      <th>startloc</th>\n",
       "      <th>endlocID</th>\n",
       "      <th>endloc</th>\n",
       "      <th>bikeID</th>\n",
       "      <th>memtype</th>\n",
       "      <th>startdate</th>\n",
       "      <th>startweekday</th>\n",
       "      <th>timeDelt</th>\n",
       "    </tr>\n",
       "  </thead>\n",
       "  <tbody>\n",
       "    <tr>\n",
       "      <th>2016-12-31 23:49:54</th>\n",
       "      <td>614</td>\n",
       "      <td>2017-01-01 00:00:09</td>\n",
       "      <td>31118</td>\n",
       "      <td>3rd &amp; Elm St NW</td>\n",
       "      <td>31102</td>\n",
       "      <td>11th &amp; Kenyon St NW</td>\n",
       "      <td>W20961</td>\n",
       "      <td>Member</td>\n",
       "      <td>2016-12-31 23:49:54</td>\n",
       "      <td>5</td>\n",
       "      <td>365</td>\n",
       "    </tr>\n",
       "    <tr>\n",
       "      <th>2016-12-31 23:51:58</th>\n",
       "      <td>483</td>\n",
       "      <td>2017-01-01 00:00:01</td>\n",
       "      <td>31612</td>\n",
       "      <td>D St &amp; Maryland Ave NE</td>\n",
       "      <td>31628</td>\n",
       "      <td>1st &amp; K St SE</td>\n",
       "      <td>W00381</td>\n",
       "      <td>Member</td>\n",
       "      <td>2016-12-31 23:51:58</td>\n",
       "      <td>5</td>\n",
       "      <td>365</td>\n",
       "    </tr>\n",
       "    <tr>\n",
       "      <th>2016-12-31 23:52:59</th>\n",
       "      <td>438</td>\n",
       "      <td>2017-01-01 00:00:18</td>\n",
       "      <td>31603</td>\n",
       "      <td>1st &amp; M St NE</td>\n",
       "      <td>31506</td>\n",
       "      <td>1st &amp; Rhode Island Ave NW</td>\n",
       "      <td>W00246</td>\n",
       "      <td>Casual</td>\n",
       "      <td>2016-12-31 23:52:59</td>\n",
       "      <td>5</td>\n",
       "      <td>365</td>\n",
       "    </tr>\n",
       "    <tr>\n",
       "      <th>2016-12-31 23:53:53</th>\n",
       "      <td>1199</td>\n",
       "      <td>2017-01-01 00:13:53</td>\n",
       "      <td>31249</td>\n",
       "      <td>Jefferson Memorial</td>\n",
       "      <td>31003</td>\n",
       "      <td>15th &amp; Crystal Dr</td>\n",
       "      <td>W23100</td>\n",
       "      <td>Member</td>\n",
       "      <td>2016-12-31 23:53:53</td>\n",
       "      <td>5</td>\n",
       "      <td>365</td>\n",
       "    </tr>\n",
       "    <tr>\n",
       "      <th>2016-12-31 23:54:20</th>\n",
       "      <td>824</td>\n",
       "      <td>2017-01-01 00:08:05</td>\n",
       "      <td>31232</td>\n",
       "      <td>7th &amp; F St NW / National Portrait Gallery</td>\n",
       "      <td>31290</td>\n",
       "      <td>17th St &amp; Independence Ave SW</td>\n",
       "      <td>W01135</td>\n",
       "      <td>Member</td>\n",
       "      <td>2016-12-31 23:54:20</td>\n",
       "      <td>5</td>\n",
       "      <td>365</td>\n",
       "    </tr>\n",
       "  </tbody>\n",
       "</table>\n",
       "</div>"
      ],
      "text/plain": [
       "                     duration              enddate  startlocID  \\\n",
       "2016-12-31 23:49:54       614  2017-01-01 00:00:09       31118   \n",
       "2016-12-31 23:51:58       483  2017-01-01 00:00:01       31612   \n",
       "2016-12-31 23:52:59       438  2017-01-01 00:00:18       31603   \n",
       "2016-12-31 23:53:53      1199  2017-01-01 00:13:53       31249   \n",
       "2016-12-31 23:54:20       824  2017-01-01 00:08:05       31232   \n",
       "\n",
       "                                                      startloc  endlocID  \\\n",
       "2016-12-31 23:49:54                            3rd & Elm St NW     31102   \n",
       "2016-12-31 23:51:58                     D St & Maryland Ave NE     31628   \n",
       "2016-12-31 23:52:59                              1st & M St NE     31506   \n",
       "2016-12-31 23:53:53                         Jefferson Memorial     31003   \n",
       "2016-12-31 23:54:20  7th & F St NW / National Portrait Gallery     31290   \n",
       "\n",
       "                                            endloc  bikeID memtype  \\\n",
       "2016-12-31 23:49:54            11th & Kenyon St NW  W20961  Member   \n",
       "2016-12-31 23:51:58                  1st & K St SE  W00381  Member   \n",
       "2016-12-31 23:52:59      1st & Rhode Island Ave NW  W00246  Casual   \n",
       "2016-12-31 23:53:53              15th & Crystal Dr  W23100  Member   \n",
       "2016-12-31 23:54:20  17th St & Independence Ave SW  W01135  Member   \n",
       "\n",
       "                              startdate  startweekday  timeDelt  \n",
       "2016-12-31 23:49:54 2016-12-31 23:49:54             5       365  \n",
       "2016-12-31 23:51:58 2016-12-31 23:51:58             5       365  \n",
       "2016-12-31 23:52:59 2016-12-31 23:52:59             5       365  \n",
       "2016-12-31 23:53:53 2016-12-31 23:53:53             5       365  \n",
       "2016-12-31 23:54:20 2016-12-31 23:54:20             5       365  "
      ]
     },
     "execution_count": 20,
     "metadata": {},
     "output_type": "execute_result"
    }
   ],
   "source": [
    "bike2016.tail()"
   ]
  },
  {
   "cell_type": "markdown",
   "metadata": {},
   "source": [
    "The 'timeDelt' column now ranges from 1 to 365 for all the days in 2016.  This will make it easier to model the progress of time through the year."
   ]
  },
  {
   "cell_type": "code",
   "execution_count": 21,
   "metadata": {
    "collapsed": true
   },
   "outputs": [],
   "source": [
    "bike2016['Year'] = bike2016['startdate'].apply(lambda t: t.year)\n",
    "bike2016['Month'] = bike2016['startdate'].apply(lambda t: t.month)\n",
    "bike2016['Day'] = bike2016['startdate'].apply(lambda t: t.day)"
   ]
  },
  {
   "cell_type": "code",
   "execution_count": 22,
   "metadata": {},
   "outputs": [
    {
     "data": {
      "text/html": [
       "<div>\n",
       "<style>\n",
       "    .dataframe thead tr:only-child th {\n",
       "        text-align: right;\n",
       "    }\n",
       "\n",
       "    .dataframe thead th {\n",
       "        text-align: left;\n",
       "    }\n",
       "\n",
       "    .dataframe tbody tr th {\n",
       "        vertical-align: top;\n",
       "    }\n",
       "</style>\n",
       "<table border=\"1\" class=\"dataframe\">\n",
       "  <thead>\n",
       "    <tr style=\"text-align: right;\">\n",
       "      <th></th>\n",
       "      <th>duration</th>\n",
       "      <th>enddate</th>\n",
       "      <th>startlocID</th>\n",
       "      <th>startloc</th>\n",
       "      <th>endlocID</th>\n",
       "      <th>endloc</th>\n",
       "      <th>bikeID</th>\n",
       "      <th>memtype</th>\n",
       "      <th>startdate</th>\n",
       "      <th>startweekday</th>\n",
       "      <th>timeDelt</th>\n",
       "      <th>Year</th>\n",
       "      <th>Month</th>\n",
       "      <th>Day</th>\n",
       "    </tr>\n",
       "  </thead>\n",
       "  <tbody>\n",
       "    <tr>\n",
       "      <th>2016-01-01 00:06:58</th>\n",
       "      <td>166</td>\n",
       "      <td>2016-01-01 00:09:44</td>\n",
       "      <td>31102</td>\n",
       "      <td>11th &amp; Kenyon St NW</td>\n",
       "      <td>31105</td>\n",
       "      <td>14th &amp; Harvard St NW</td>\n",
       "      <td>W01346</td>\n",
       "      <td>Member</td>\n",
       "      <td>2016-01-01 00:06:58</td>\n",
       "      <td>4</td>\n",
       "      <td>0</td>\n",
       "      <td>2016</td>\n",
       "      <td>1</td>\n",
       "      <td>1</td>\n",
       "    </tr>\n",
       "    <tr>\n",
       "      <th>2016-01-01 00:10:20</th>\n",
       "      <td>448</td>\n",
       "      <td>2016-01-01 00:17:48</td>\n",
       "      <td>32039</td>\n",
       "      <td>Old Georgetown Rd &amp; Southwick St</td>\n",
       "      <td>32002</td>\n",
       "      <td>Bethesda Ave &amp; Arlington Rd</td>\n",
       "      <td>W22202</td>\n",
       "      <td>Member</td>\n",
       "      <td>2016-01-01 00:10:20</td>\n",
       "      <td>4</td>\n",
       "      <td>0</td>\n",
       "      <td>2016</td>\n",
       "      <td>1</td>\n",
       "      <td>1</td>\n",
       "    </tr>\n",
       "    <tr>\n",
       "      <th>2016-01-01 00:13:52</th>\n",
       "      <td>715</td>\n",
       "      <td>2016-01-01 00:25:48</td>\n",
       "      <td>31222</td>\n",
       "      <td>New York Ave &amp; 15th St NW</td>\n",
       "      <td>31214</td>\n",
       "      <td>17th &amp; Corcoran St NW</td>\n",
       "      <td>W21427</td>\n",
       "      <td>Member</td>\n",
       "      <td>2016-01-01 00:13:52</td>\n",
       "      <td>4</td>\n",
       "      <td>0</td>\n",
       "      <td>2016</td>\n",
       "      <td>1</td>\n",
       "      <td>1</td>\n",
       "    </tr>\n",
       "    <tr>\n",
       "      <th>2016-01-01 00:15:29</th>\n",
       "      <td>213</td>\n",
       "      <td>2016-01-01 00:19:03</td>\n",
       "      <td>31506</td>\n",
       "      <td>1st &amp; Rhode Island Ave NW</td>\n",
       "      <td>31509</td>\n",
       "      <td>New Jersey Ave &amp; R St NW</td>\n",
       "      <td>W01294</td>\n",
       "      <td>Member</td>\n",
       "      <td>2016-01-01 00:15:29</td>\n",
       "      <td>4</td>\n",
       "      <td>0</td>\n",
       "      <td>2016</td>\n",
       "      <td>1</td>\n",
       "      <td>1</td>\n",
       "    </tr>\n",
       "    <tr>\n",
       "      <th>2016-01-01 00:16:16</th>\n",
       "      <td>872</td>\n",
       "      <td>2016-01-01 00:30:49</td>\n",
       "      <td>31041</td>\n",
       "      <td>Prince St &amp; Union St</td>\n",
       "      <td>31048</td>\n",
       "      <td>King St Metro South</td>\n",
       "      <td>W22058</td>\n",
       "      <td>Member</td>\n",
       "      <td>2016-01-01 00:16:16</td>\n",
       "      <td>4</td>\n",
       "      <td>0</td>\n",
       "      <td>2016</td>\n",
       "      <td>1</td>\n",
       "      <td>1</td>\n",
       "    </tr>\n",
       "  </tbody>\n",
       "</table>\n",
       "</div>"
      ],
      "text/plain": [
       "                     duration              enddate  startlocID  \\\n",
       "2016-01-01 00:06:58       166  2016-01-01 00:09:44       31102   \n",
       "2016-01-01 00:10:20       448  2016-01-01 00:17:48       32039   \n",
       "2016-01-01 00:13:52       715  2016-01-01 00:25:48       31222   \n",
       "2016-01-01 00:15:29       213  2016-01-01 00:19:03       31506   \n",
       "2016-01-01 00:16:16       872  2016-01-01 00:30:49       31041   \n",
       "\n",
       "                                             startloc  endlocID  \\\n",
       "2016-01-01 00:06:58               11th & Kenyon St NW     31105   \n",
       "2016-01-01 00:10:20  Old Georgetown Rd & Southwick St     32002   \n",
       "2016-01-01 00:13:52         New York Ave & 15th St NW     31214   \n",
       "2016-01-01 00:15:29         1st & Rhode Island Ave NW     31509   \n",
       "2016-01-01 00:16:16              Prince St & Union St     31048   \n",
       "\n",
       "                                          endloc  bikeID memtype  \\\n",
       "2016-01-01 00:06:58         14th & Harvard St NW  W01346  Member   \n",
       "2016-01-01 00:10:20  Bethesda Ave & Arlington Rd  W22202  Member   \n",
       "2016-01-01 00:13:52        17th & Corcoran St NW  W21427  Member   \n",
       "2016-01-01 00:15:29     New Jersey Ave & R St NW  W01294  Member   \n",
       "2016-01-01 00:16:16          King St Metro South  W22058  Member   \n",
       "\n",
       "                              startdate  startweekday  timeDelt  Year  Month  \\\n",
       "2016-01-01 00:06:58 2016-01-01 00:06:58             4         0  2016      1   \n",
       "2016-01-01 00:10:20 2016-01-01 00:10:20             4         0  2016      1   \n",
       "2016-01-01 00:13:52 2016-01-01 00:13:52             4         0  2016      1   \n",
       "2016-01-01 00:15:29 2016-01-01 00:15:29             4         0  2016      1   \n",
       "2016-01-01 00:16:16 2016-01-01 00:16:16             4         0  2016      1   \n",
       "\n",
       "                     Day  \n",
       "2016-01-01 00:06:58    1  \n",
       "2016-01-01 00:10:20    1  \n",
       "2016-01-01 00:13:52    1  \n",
       "2016-01-01 00:15:29    1  \n",
       "2016-01-01 00:16:16    1  "
      ]
     },
     "execution_count": 22,
     "metadata": {},
     "output_type": "execute_result"
    }
   ],
   "source": [
    "bike2016.head()"
   ]
  },
  {
   "cell_type": "markdown",
   "metadata": {},
   "source": [
    "This dataframe also has the number of month, day, and year in separate columns so they are more accessible, just in case they are needed for later steps."
   ]
  },
  {
   "cell_type": "markdown",
   "metadata": {},
   "source": [
    "#### Daily totals"
   ]
  },
  {
   "cell_type": "markdown",
   "metadata": {},
   "source": [
    "The next step is to total all the rental events for each day in 2016.  Let's first see what that might look like with a histogram using the 'timeDelt' column to summarize the data."
   ]
  },
  {
   "cell_type": "code",
   "execution_count": 23,
   "metadata": {},
   "outputs": [
    {
     "data": {
      "text/plain": [
       "<matplotlib.axes._subplots.AxesSubplot at 0x16d75ac18>"
      ]
     },
     "execution_count": 23,
     "metadata": {},
     "output_type": "execute_result"
    },
    {
     "data": {
      "image/png": "[encoded data removed]",
      "text/plain": [
       "<matplotlib.figure.Figure at 0x11ed2ba90>"
      ]
     },
     "metadata": {},
     "output_type": "display_data"
    }
   ],
   "source": [
    "sns.distplot(bike2016['timeDelt'])"
   ]
  },
  {
   "cell_type": "markdown",
   "metadata": {},
   "source": [
    "It looks like the number of rentals is greatest from about day 75 through 325. This translates to March 15 through November 20.  One might guess this pattern correlates with weather, but let's keep moving."
   ]
  },
  {
   "cell_type": "code",
   "execution_count": 24,
   "metadata": {},
   "outputs": [
    {
     "name": "stdout",
     "output_type": "stream",
     "text": [
      "<class 'pandas.core.frame.DataFrame'>\n",
      "Int64Index: 362 entries, 0 to 365\n",
      "Data columns (total 8 columns):\n",
      "Year            362 non-null int64\n",
      "Month           362 non-null int64\n",
      "Day             362 non-null int64\n",
      "startdate       362 non-null datetime64[ns]\n",
      "timeDelt        362 non-null int64\n",
      "startweekday    362 non-null int64\n",
      "totalRents      362 non-null int64\n",
      "timeDelt_sq     362 non-null int64\n",
      "dtypes: datetime64[ns](1), int64(7)\n",
      "memory usage: 25.5 KB\n"
     ]
    }
   ],
   "source": [
    "grouped = bike2016.groupby('timeDelt')['Year','Month','Day','startdate','timeDelt','startweekday'].max()\n",
    "grouped['totalRents'] = bike2016.groupby('timeDelt')['timeDelt'].size()\n",
    "grouped['timeDelt_sq'] = grouped['timeDelt'].apply(lambda s: s**2)\n",
    "grouped.info()"
   ]
  },
  {
   "cell_type": "code",
   "execution_count": 25,
   "metadata": {
    "collapsed": true
   },
   "outputs": [],
   "source": [
    "grouped['startdate'] = grouped['startdate'].apply(lambda s: s.date())"
   ]
  },
  {
   "cell_type": "code",
   "execution_count": 26,
   "metadata": {},
   "outputs": [
    {
     "data": {
      "text/html": [
       "<div>\n",
       "<style>\n",
       "    .dataframe thead tr:only-child th {\n",
       "        text-align: right;\n",
       "    }\n",
       "\n",
       "    .dataframe thead th {\n",
       "        text-align: left;\n",
       "    }\n",
       "\n",
       "    .dataframe tbody tr th {\n",
       "        vertical-align: top;\n",
       "    }\n",
       "</style>\n",
       "<table border=\"1\" class=\"dataframe\">\n",
       "  <thead>\n",
       "    <tr style=\"text-align: right;\">\n",
       "      <th></th>\n",
       "      <th>Year</th>\n",
       "      <th>Month</th>\n",
       "      <th>Day</th>\n",
       "      <th>startdate</th>\n",
       "      <th>timeDelt</th>\n",
       "      <th>startweekday</th>\n",
       "      <th>totalRents</th>\n",
       "      <th>timeDelt_sq</th>\n",
       "    </tr>\n",
       "    <tr>\n",
       "      <th>timeDelt</th>\n",
       "      <th></th>\n",
       "      <th></th>\n",
       "      <th></th>\n",
       "      <th></th>\n",
       "      <th></th>\n",
       "      <th></th>\n",
       "      <th></th>\n",
       "      <th></th>\n",
       "    </tr>\n",
       "  </thead>\n",
       "  <tbody>\n",
       "    <tr>\n",
       "      <th>0</th>\n",
       "      <td>2016</td>\n",
       "      <td>1</td>\n",
       "      <td>1</td>\n",
       "      <td>2016-01-01</td>\n",
       "      <td>0</td>\n",
       "      <td>4</td>\n",
       "      <td>3220</td>\n",
       "      <td>0</td>\n",
       "    </tr>\n",
       "    <tr>\n",
       "      <th>1</th>\n",
       "      <td>2016</td>\n",
       "      <td>1</td>\n",
       "      <td>2</td>\n",
       "      <td>2016-01-02</td>\n",
       "      <td>1</td>\n",
       "      <td>5</td>\n",
       "      <td>4921</td>\n",
       "      <td>1</td>\n",
       "    </tr>\n",
       "    <tr>\n",
       "      <th>2</th>\n",
       "      <td>2016</td>\n",
       "      <td>1</td>\n",
       "      <td>3</td>\n",
       "      <td>2016-01-03</td>\n",
       "      <td>2</td>\n",
       "      <td>6</td>\n",
       "      <td>4965</td>\n",
       "      <td>4</td>\n",
       "    </tr>\n",
       "    <tr>\n",
       "      <th>3</th>\n",
       "      <td>2016</td>\n",
       "      <td>1</td>\n",
       "      <td>4</td>\n",
       "      <td>2016-01-04</td>\n",
       "      <td>3</td>\n",
       "      <td>0</td>\n",
       "      <td>5133</td>\n",
       "      <td>9</td>\n",
       "    </tr>\n",
       "    <tr>\n",
       "      <th>4</th>\n",
       "      <td>2016</td>\n",
       "      <td>1</td>\n",
       "      <td>5</td>\n",
       "      <td>2016-01-05</td>\n",
       "      <td>4</td>\n",
       "      <td>1</td>\n",
       "      <td>4850</td>\n",
       "      <td>16</td>\n",
       "    </tr>\n",
       "  </tbody>\n",
       "</table>\n",
       "</div>"
      ],
      "text/plain": [
       "          Year  Month  Day   startdate  timeDelt  startweekday  totalRents  \\\n",
       "timeDelt                                                                     \n",
       "0         2016      1    1  2016-01-01         0             4        3220   \n",
       "1         2016      1    2  2016-01-02         1             5        4921   \n",
       "2         2016      1    3  2016-01-03         2             6        4965   \n",
       "3         2016      1    4  2016-01-04         3             0        5133   \n",
       "4         2016      1    5  2016-01-05         4             1        4850   \n",
       "\n",
       "          timeDelt_sq  \n",
       "timeDelt               \n",
       "0                   0  \n",
       "1                   1  \n",
       "2                   4  \n",
       "3                   9  \n",
       "4                  16  "
      ]
     },
     "execution_count": 26,
     "metadata": {},
     "output_type": "execute_result"
    }
   ],
   "source": [
    "grouped.head()"
   ]
  },
  {
   "cell_type": "markdown",
   "metadata": {},
   "source": [
    "I've also calculated a column as the square of 'timeDelt' which will roughly estimate the cyclical pattern in yearly use patterns. In order to make merging easier later, I've also changed the data type of the 'startdate' column."
   ]
  },
  {
   "cell_type": "markdown",
   "metadata": {},
   "source": [
    "#### Holidays"
   ]
  },
  {
   "cell_type": "code",
   "execution_count": 27,
   "metadata": {
    "collapsed": true
   },
   "outputs": [],
   "source": [
    "# add holiday indicator\n",
    "from pandas.tseries.holiday import USFederalHolidayCalendar\n",
    "cal = USFederalHolidayCalendar()\n",
    "holidays = cal.holidays('2016')\n",
    "grouped = grouped.join(pd.Series(1, index=holidays, name='holiday'))\n",
    "grouped['holiday'].fillna(0, inplace=True)"
   ]
  },
  {
   "cell_type": "markdown",
   "metadata": {},
   "source": [
    "#### Combine data into a common dataframe."
   ]
  },
  {
   "cell_type": "code",
   "execution_count": null,
   "metadata": {
    "collapsed": true
   },
   "outputs": [],
   "source": [
    "#merge weather data"
   ]
  },
  {
   "cell_type": "code",
   "execution_count": 28,
   "metadata": {},
   "outputs": [
    {
     "name": "stdout",
     "output_type": "stream",
     "text": [
      "<class 'pandas.core.frame.DataFrame'>\n",
      "DatetimeIndex: 7186 entries, 2016-01-01 to NaT\n",
      "Data columns (total 7 columns):\n",
      "station       726 non-null object\n",
      "name          726 non-null object\n",
      "tmax          726 non-null float64\n",
      "tmin          724 non-null float64\n",
      "tmax_sq       726 non-null float64\n",
      "tmin_sq       724 non-null float64\n",
      "startdate2    726 non-null object\n",
      "dtypes: float64(4), object(3)\n",
      "memory usage: 449.1+ KB\n"
     ]
    }
   ],
   "source": [
    "weather['startdate2'] = weather.index\n",
    "weather['startdate2'] = weather['startdate2'].apply(lambda s: s.date())\n",
    "weather.info()"
   ]
  },
  {
   "cell_type": "code",
   "execution_count": 29,
   "metadata": {},
   "outputs": [
    {
     "data": {
      "text/html": [
       "<div>\n",
       "<style>\n",
       "    .dataframe thead tr:only-child th {\n",
       "        text-align: right;\n",
       "    }\n",
       "\n",
       "    .dataframe thead th {\n",
       "        text-align: left;\n",
       "    }\n",
       "\n",
       "    .dataframe tbody tr th {\n",
       "        vertical-align: top;\n",
       "    }\n",
       "</style>\n",
       "<table border=\"1\" class=\"dataframe\">\n",
       "  <thead>\n",
       "    <tr style=\"text-align: right;\">\n",
       "      <th></th>\n",
       "      <th>Year</th>\n",
       "      <th>Month</th>\n",
       "      <th>Day</th>\n",
       "      <th>startdate</th>\n",
       "      <th>timeDelt</th>\n",
       "      <th>startweekday</th>\n",
       "      <th>totalRents</th>\n",
       "      <th>timeDelt_sq</th>\n",
       "      <th>holiday</th>\n",
       "      <th>station</th>\n",
       "      <th>name</th>\n",
       "      <th>tmax</th>\n",
       "      <th>tmin</th>\n",
       "      <th>tmax_sq</th>\n",
       "      <th>tmin_sq</th>\n",
       "      <th>startdate2</th>\n",
       "    </tr>\n",
       "  </thead>\n",
       "  <tbody>\n",
       "    <tr>\n",
       "      <th>0</th>\n",
       "      <td>2016</td>\n",
       "      <td>1</td>\n",
       "      <td>1</td>\n",
       "      <td>2016-01-01</td>\n",
       "      <td>0</td>\n",
       "      <td>4</td>\n",
       "      <td>3220</td>\n",
       "      <td>0</td>\n",
       "      <td>0.0</td>\n",
       "      <td>USC00186350</td>\n",
       "      <td>NATIONAL ARBORETUM DC, MD US</td>\n",
       "      <td>56.0</td>\n",
       "      <td>41.0</td>\n",
       "      <td>3136.0</td>\n",
       "      <td>1681.0</td>\n",
       "      <td>2016-01-01</td>\n",
       "    </tr>\n",
       "    <tr>\n",
       "      <th>1</th>\n",
       "      <td>2016</td>\n",
       "      <td>1</td>\n",
       "      <td>2</td>\n",
       "      <td>2016-01-02</td>\n",
       "      <td>1</td>\n",
       "      <td>5</td>\n",
       "      <td>4921</td>\n",
       "      <td>1</td>\n",
       "      <td>0.0</td>\n",
       "      <td>USC00186350</td>\n",
       "      <td>NATIONAL ARBORETUM DC, MD US</td>\n",
       "      <td>46.0</td>\n",
       "      <td>31.0</td>\n",
       "      <td>2116.0</td>\n",
       "      <td>961.0</td>\n",
       "      <td>2016-01-02</td>\n",
       "    </tr>\n",
       "    <tr>\n",
       "      <th>2</th>\n",
       "      <td>2016</td>\n",
       "      <td>1</td>\n",
       "      <td>3</td>\n",
       "      <td>2016-01-03</td>\n",
       "      <td>2</td>\n",
       "      <td>6</td>\n",
       "      <td>4965</td>\n",
       "      <td>4</td>\n",
       "      <td>0.0</td>\n",
       "      <td>USC00186350</td>\n",
       "      <td>NATIONAL ARBORETUM DC, MD US</td>\n",
       "      <td>48.0</td>\n",
       "      <td>29.0</td>\n",
       "      <td>2304.0</td>\n",
       "      <td>841.0</td>\n",
       "      <td>2016-01-03</td>\n",
       "    </tr>\n",
       "    <tr>\n",
       "      <th>3</th>\n",
       "      <td>2016</td>\n",
       "      <td>1</td>\n",
       "      <td>4</td>\n",
       "      <td>2016-01-04</td>\n",
       "      <td>3</td>\n",
       "      <td>0</td>\n",
       "      <td>5133</td>\n",
       "      <td>9</td>\n",
       "      <td>0.0</td>\n",
       "      <td>USC00186350</td>\n",
       "      <td>NATIONAL ARBORETUM DC, MD US</td>\n",
       "      <td>53.0</td>\n",
       "      <td>29.0</td>\n",
       "      <td>2809.0</td>\n",
       "      <td>841.0</td>\n",
       "      <td>2016-01-04</td>\n",
       "    </tr>\n",
       "    <tr>\n",
       "      <th>4</th>\n",
       "      <td>2016</td>\n",
       "      <td>1</td>\n",
       "      <td>5</td>\n",
       "      <td>2016-01-05</td>\n",
       "      <td>4</td>\n",
       "      <td>1</td>\n",
       "      <td>4850</td>\n",
       "      <td>16</td>\n",
       "      <td>0.0</td>\n",
       "      <td>USC00186350</td>\n",
       "      <td>NATIONAL ARBORETUM DC, MD US</td>\n",
       "      <td>38.0</td>\n",
       "      <td>15.0</td>\n",
       "      <td>1444.0</td>\n",
       "      <td>225.0</td>\n",
       "      <td>2016-01-05</td>\n",
       "    </tr>\n",
       "  </tbody>\n",
       "</table>\n",
       "</div>"
      ],
      "text/plain": [
       "   Year  Month  Day   startdate  timeDelt  startweekday  totalRents  \\\n",
       "0  2016      1    1  2016-01-01         0             4        3220   \n",
       "1  2016      1    2  2016-01-02         1             5        4921   \n",
       "2  2016      1    3  2016-01-03         2             6        4965   \n",
       "3  2016      1    4  2016-01-04         3             0        5133   \n",
       "4  2016      1    5  2016-01-05         4             1        4850   \n",
       "\n",
       "   timeDelt_sq  holiday      station                          name  tmax  \\\n",
       "0            0      0.0  USC00186350  NATIONAL ARBORETUM DC, MD US  56.0   \n",
       "1            1      0.0  USC00186350  NATIONAL ARBORETUM DC, MD US  46.0   \n",
       "2            4      0.0  USC00186350  NATIONAL ARBORETUM DC, MD US  48.0   \n",
       "3            9      0.0  USC00186350  NATIONAL ARBORETUM DC, MD US  53.0   \n",
       "4           16      0.0  USC00186350  NATIONAL ARBORETUM DC, MD US  38.0   \n",
       "\n",
       "   tmin  tmax_sq  tmin_sq  startdate2  \n",
       "0  41.0   3136.0   1681.0  2016-01-01  \n",
       "1  31.0   2116.0    961.0  2016-01-02  \n",
       "2  29.0   2304.0    841.0  2016-01-03  \n",
       "3  29.0   2809.0    841.0  2016-01-04  \n",
       "4  15.0   1444.0    225.0  2016-01-05  "
      ]
     },
     "execution_count": 29,
     "metadata": {},
     "output_type": "execute_result"
    }
   ],
   "source": [
    "totals = pd.merge(grouped, weather, how='left', left_on='startdate', right_on='startdate2')\n",
    "totals.head()"
   ]
  },
  {
   "cell_type": "code",
   "execution_count": 30,
   "metadata": {},
   "outputs": [
    {
     "name": "stdout",
     "output_type": "stream",
     "text": [
      "<class 'pandas.core.frame.DataFrame'>\n",
      "Int64Index: 362 entries, 0 to 361\n",
      "Data columns (total 16 columns):\n",
      "Year            362 non-null int64\n",
      "Month           362 non-null int64\n",
      "Day             362 non-null int64\n",
      "startdate       362 non-null object\n",
      "timeDelt        362 non-null int64\n",
      "startweekday    362 non-null int64\n",
      "totalRents      362 non-null int64\n",
      "timeDelt_sq     362 non-null int64\n",
      "holiday         362 non-null float64\n",
      "station         361 non-null object\n",
      "name            361 non-null object\n",
      "tmax            361 non-null float64\n",
      "tmin            361 non-null float64\n",
      "tmax_sq         361 non-null float64\n",
      "tmin_sq         361 non-null float64\n",
      "startdate2      361 non-null object\n",
      "dtypes: float64(5), int64(7), object(4)\n",
      "memory usage: 48.1+ KB\n"
     ]
    }
   ],
   "source": [
    "totals.info()"
   ]
  },
  {
   "cell_type": "markdown",
   "metadata": {},
   "source": [
    "Some days have missing data, so let's forward fill those values.  Especially in the case of temperature data, a forward fill makes sense since one day's weather is more closely related to the day previous than the mean of the whole year."
   ]
  },
  {
   "cell_type": "code",
   "execution_count": 31,
   "metadata": {
    "collapsed": true
   },
   "outputs": [],
   "source": [
    "totals=totals.fillna(method='ffill')"
   ]
  },
  {
   "cell_type": "markdown",
   "metadata": {},
   "source": [
    "#### Categorical variables\n",
    "We also need to create dummy variable columns for weekday."
   ]
  },
  {
   "cell_type": "code",
   "execution_count": 32,
   "metadata": {
    "collapsed": true
   },
   "outputs": [],
   "source": [
    "# convert days of the week (startweekday) to dummy variable columns\n",
    "weekday_dummies = pd.get_dummies(totals['startweekday'], prefix='day')\n",
    "totals = pd.merge(totals, weekday_dummies, how='outer', left_index=True, right_index=True)"
   ]
  },
  {
   "cell_type": "code",
   "execution_count": 33,
   "metadata": {},
   "outputs": [
    {
     "data": {
      "text/html": [
       "<div>\n",
       "<style>\n",
       "    .dataframe thead tr:only-child th {\n",
       "        text-align: right;\n",
       "    }\n",
       "\n",
       "    .dataframe thead th {\n",
       "        text-align: left;\n",
       "    }\n",
       "\n",
       "    .dataframe tbody tr th {\n",
       "        vertical-align: top;\n",
       "    }\n",
       "</style>\n",
       "<table border=\"1\" class=\"dataframe\">\n",
       "  <thead>\n",
       "    <tr style=\"text-align: right;\">\n",
       "      <th></th>\n",
       "      <th>Year</th>\n",
       "      <th>Month</th>\n",
       "      <th>Day</th>\n",
       "      <th>startdate</th>\n",
       "      <th>timeDelt</th>\n",
       "      <th>startweekday</th>\n",
       "      <th>totalRents</th>\n",
       "      <th>timeDelt_sq</th>\n",
       "      <th>holiday</th>\n",
       "      <th>station</th>\n",
       "      <th>...</th>\n",
       "      <th>tmax_sq</th>\n",
       "      <th>tmin_sq</th>\n",
       "      <th>startdate2</th>\n",
       "      <th>day_0</th>\n",
       "      <th>day_1</th>\n",
       "      <th>day_2</th>\n",
       "      <th>day_3</th>\n",
       "      <th>day_4</th>\n",
       "      <th>day_5</th>\n",
       "      <th>day_6</th>\n",
       "    </tr>\n",
       "  </thead>\n",
       "  <tbody>\n",
       "    <tr>\n",
       "      <th>0</th>\n",
       "      <td>2016</td>\n",
       "      <td>1</td>\n",
       "      <td>1</td>\n",
       "      <td>2016-01-01</td>\n",
       "      <td>0</td>\n",
       "      <td>4</td>\n",
       "      <td>3220</td>\n",
       "      <td>0</td>\n",
       "      <td>0.0</td>\n",
       "      <td>USC00186350</td>\n",
       "      <td>...</td>\n",
       "      <td>3136.0</td>\n",
       "      <td>1681.0</td>\n",
       "      <td>2016-01-01</td>\n",
       "      <td>0</td>\n",
       "      <td>0</td>\n",
       "      <td>0</td>\n",
       "      <td>0</td>\n",
       "      <td>1</td>\n",
       "      <td>0</td>\n",
       "      <td>0</td>\n",
       "    </tr>\n",
       "    <tr>\n",
       "      <th>1</th>\n",
       "      <td>2016</td>\n",
       "      <td>1</td>\n",
       "      <td>2</td>\n",
       "      <td>2016-01-02</td>\n",
       "      <td>1</td>\n",
       "      <td>5</td>\n",
       "      <td>4921</td>\n",
       "      <td>1</td>\n",
       "      <td>0.0</td>\n",
       "      <td>USC00186350</td>\n",
       "      <td>...</td>\n",
       "      <td>2116.0</td>\n",
       "      <td>961.0</td>\n",
       "      <td>2016-01-02</td>\n",
       "      <td>0</td>\n",
       "      <td>0</td>\n",
       "      <td>0</td>\n",
       "      <td>0</td>\n",
       "      <td>0</td>\n",
       "      <td>1</td>\n",
       "      <td>0</td>\n",
       "    </tr>\n",
       "    <tr>\n",
       "      <th>2</th>\n",
       "      <td>2016</td>\n",
       "      <td>1</td>\n",
       "      <td>3</td>\n",
       "      <td>2016-01-03</td>\n",
       "      <td>2</td>\n",
       "      <td>6</td>\n",
       "      <td>4965</td>\n",
       "      <td>4</td>\n",
       "      <td>0.0</td>\n",
       "      <td>USC00186350</td>\n",
       "      <td>...</td>\n",
       "      <td>2304.0</td>\n",
       "      <td>841.0</td>\n",
       "      <td>2016-01-03</td>\n",
       "      <td>0</td>\n",
       "      <td>0</td>\n",
       "      <td>0</td>\n",
       "      <td>0</td>\n",
       "      <td>0</td>\n",
       "      <td>0</td>\n",
       "      <td>1</td>\n",
       "    </tr>\n",
       "    <tr>\n",
       "      <th>3</th>\n",
       "      <td>2016</td>\n",
       "      <td>1</td>\n",
       "      <td>4</td>\n",
       "      <td>2016-01-04</td>\n",
       "      <td>3</td>\n",
       "      <td>0</td>\n",
       "      <td>5133</td>\n",
       "      <td>9</td>\n",
       "      <td>0.0</td>\n",
       "      <td>USC00186350</td>\n",
       "      <td>...</td>\n",
       "      <td>2809.0</td>\n",
       "      <td>841.0</td>\n",
       "      <td>2016-01-04</td>\n",
       "      <td>1</td>\n",
       "      <td>0</td>\n",
       "      <td>0</td>\n",
       "      <td>0</td>\n",
       "      <td>0</td>\n",
       "      <td>0</td>\n",
       "      <td>0</td>\n",
       "    </tr>\n",
       "    <tr>\n",
       "      <th>4</th>\n",
       "      <td>2016</td>\n",
       "      <td>1</td>\n",
       "      <td>5</td>\n",
       "      <td>2016-01-05</td>\n",
       "      <td>4</td>\n",
       "      <td>1</td>\n",
       "      <td>4850</td>\n",
       "      <td>16</td>\n",
       "      <td>0.0</td>\n",
       "      <td>USC00186350</td>\n",
       "      <td>...</td>\n",
       "      <td>1444.0</td>\n",
       "      <td>225.0</td>\n",
       "      <td>2016-01-05</td>\n",
       "      <td>0</td>\n",
       "      <td>1</td>\n",
       "      <td>0</td>\n",
       "      <td>0</td>\n",
       "      <td>0</td>\n",
       "      <td>0</td>\n",
       "      <td>0</td>\n",
       "    </tr>\n",
       "  </tbody>\n",
       "</table>\n",
       "<p>5 rows × 23 columns</p>\n",
       "</div>"
      ],
      "text/plain": [
       "   Year  Month  Day   startdate  timeDelt  startweekday  totalRents  \\\n",
       "0  2016      1    1  2016-01-01         0             4        3220   \n",
       "1  2016      1    2  2016-01-02         1             5        4921   \n",
       "2  2016      1    3  2016-01-03         2             6        4965   \n",
       "3  2016      1    4  2016-01-04         3             0        5133   \n",
       "4  2016      1    5  2016-01-05         4             1        4850   \n",
       "\n",
       "   timeDelt_sq  holiday      station  ...   tmax_sq  tmin_sq  startdate2  \\\n",
       "0            0      0.0  USC00186350  ...    3136.0   1681.0  2016-01-01   \n",
       "1            1      0.0  USC00186350  ...    2116.0    961.0  2016-01-02   \n",
       "2            4      0.0  USC00186350  ...    2304.0    841.0  2016-01-03   \n",
       "3            9      0.0  USC00186350  ...    2809.0    841.0  2016-01-04   \n",
       "4           16      0.0  USC00186350  ...    1444.0    225.0  2016-01-05   \n",
       "\n",
       "   day_0  day_1 day_2  day_3  day_4  day_5  day_6  \n",
       "0      0      0     0      0      1      0      0  \n",
       "1      0      0     0      0      0      1      0  \n",
       "2      0      0     0      0      0      0      1  \n",
       "3      1      0     0      0      0      0      0  \n",
       "4      0      1     0      0      0      0      0  \n",
       "\n",
       "[5 rows x 23 columns]"
      ]
     },
     "execution_count": 33,
     "metadata": {},
     "output_type": "execute_result"
    }
   ],
   "source": [
    "totals.head()"
   ]
  },
  {
   "cell_type": "code",
   "execution_count": 34,
   "metadata": {},
   "outputs": [
    {
     "name": "stdout",
     "output_type": "stream",
     "text": [
      "<class 'pandas.core.frame.DataFrame'>\n",
      "Int64Index: 362 entries, 0 to 361\n",
      "Data columns (total 23 columns):\n",
      "Year            362 non-null int64\n",
      "Month           362 non-null int64\n",
      "Day             362 non-null int64\n",
      "startdate       362 non-null object\n",
      "timeDelt        362 non-null int64\n",
      "startweekday    362 non-null int64\n",
      "totalRents      362 non-null int64\n",
      "timeDelt_sq     362 non-null int64\n",
      "holiday         362 non-null float64\n",
      "station         362 non-null object\n",
      "name            362 non-null object\n",
      "tmax            362 non-null float64\n",
      "tmin            362 non-null float64\n",
      "tmax_sq         362 non-null float64\n",
      "tmin_sq         362 non-null float64\n",
      "startdate2      362 non-null object\n",
      "day_0           362 non-null uint8\n",
      "day_1           362 non-null uint8\n",
      "day_2           362 non-null uint8\n",
      "day_3           362 non-null uint8\n",
      "day_4           362 non-null uint8\n",
      "day_5           362 non-null uint8\n",
      "day_6           362 non-null uint8\n",
      "dtypes: float64(5), int64(7), object(4), uint8(7)\n",
      "memory usage: 60.6+ KB\n"
     ]
    }
   ],
   "source": [
    "totals.info()"
   ]
  },
  {
   "cell_type": "code",
   "execution_count": 35,
   "metadata": {
    "collapsed": true
   },
   "outputs": [],
   "source": [
    "totals.to_csv('../CapstoneDrafts/data/2016totals.csv')"
   ]
  },
  {
   "cell_type": "markdown",
   "metadata": {},
   "source": [
    "#### Where was the bike rented?\n",
    "We can also create a totals dataframe maintaining information about the starting bike rental station ('startlocID')."
   ]
  },
  {
   "cell_type": "code",
   "execution_count": 36,
   "metadata": {
    "collapsed": true
   },
   "outputs": [],
   "source": [
    "groupedStart = bike2016.groupby(['startlocID','timeDelt'])[\n",
    "    'Year','Month','Day','startweekday','timeDelt','startlocID'].max()\n",
    "groupedStart['totalRents'] = bike2016.groupby(['startlocID','timeDelt'])['startlocID'].size()\n",
    "groupedStart['timeDelt_sq'] = groupedStart['timeDelt'].apply(lambda s: s**2)"
   ]
  },
  {
   "cell_type": "markdown",
   "metadata": {},
   "source": [
    "Model building continues in 'bikeshare_model' notebook."
   ]
  }
 ],
 "metadata": {
  "kernelspec": {
   "display_name": "Python 3",
   "language": "python",
   "name": "python3"
  },
  "language_info": {
   "codemirror_mode": {
    "name": "ipython",
    "version": 3
   },
   "file_extension": ".py",
   "mimetype": "text/x-python",
   "name": "python",
   "nbconvert_exporter": "python",
   "pygments_lexer": "ipython3",
   "version": "3.6.1"
  }
 },
 "nbformat": 4,
 "nbformat_minor": 2
}
