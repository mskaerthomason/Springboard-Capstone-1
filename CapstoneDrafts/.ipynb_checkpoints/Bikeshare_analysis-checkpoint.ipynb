{
 "cells": [
  {
   "cell_type": "markdown",
   "metadata": {},
   "source": [
    "## Machine Learning: bikeshare data for Capstone 1"
   ]
  },
  {
   "cell_type": "markdown",
   "metadata": {},
   "source": [
    "Let's start by adding the rest of 2016 data.\n",
    "\n",
    "As a reminder, the data can be found here, https://s3.amazonaws.com/capitalbikeshare-data/index.html."
   ]
  },
  {
   "cell_type": "code",
   "execution_count": 20,
   "metadata": {},
   "outputs": [],
   "source": [
    "import pandas as pd\n",
    "import numpy as np\n",
    "import matplotlib.pyplot as plt\n",
    "import seaborn as sns\n",
    "import scipy.stats as stats\n",
    "%matplotlib inline\n",
    "\n",
    "Q1 = pd.read_csv('../CapstoneDrafts/data/2016Q1-capitalbikeshare-tripdata.csv', \n",
    "                        parse_dates=True, index_col=1, header=0,\n",
    "                        names=['duration','enddate','startlocID','startloc','endlocID','endloc','bikeID','memtype'])\n",
    "Q2 = pd.read_csv('../CapstoneDrafts/data/2016Q2-capitalbikeshare-tripdata.csv', \n",
    "                        parse_dates=True, index_col=1, header=0,\n",
    "                        names=['duration','enddate','startlocID','startloc','endlocID','endloc','bikeID','memtype'])\n",
    "Q3 = pd.read_csv('../CapstoneDrafts/data/2016Q3-capitalbikeshare-tripdata.csv', \n",
    "                        parse_dates=True, index_col=1, header=0,\n",
    "                        names=['duration','enddate','startlocID','startloc','endlocID','endloc','bikeID','memtype'])\n",
    "Q4 = pd.read_csv('../CapstoneDrafts/data/2016Q4-capitalbikeshare-tripdata.csv', \n",
    "                        parse_dates=True, index_col=1, header=0,\n",
    "                        names=['duration','enddate','startlocID','startloc','endlocID','endloc','bikeID','memtype'])"
   ]
  },
  {
   "cell_type": "code",
   "execution_count": 30,
   "metadata": {},
   "outputs": [
    {
     "data": {
      "text/html": [
       "<div>\n",
       "<style>\n",
       "    .dataframe thead tr:only-child th {\n",
       "        text-align: right;\n",
       "    }\n",
       "\n",
       "    .dataframe thead th {\n",
       "        text-align: left;\n",
       "    }\n",
       "\n",
       "    .dataframe tbody tr th {\n",
       "        vertical-align: top;\n",
       "    }\n",
       "</style>\n",
       "<table border=\"1\" class=\"dataframe\">\n",
       "  <thead>\n",
       "    <tr style=\"text-align: right;\">\n",
       "      <th></th>\n",
       "      <th>duration</th>\n",
       "      <th>startlocID</th>\n",
       "      <th>endlocID</th>\n",
       "    </tr>\n",
       "  </thead>\n",
       "  <tbody>\n",
       "    <tr>\n",
       "      <th>count</th>\n",
       "      <td>942333.000000</td>\n",
       "      <td>942333.000000</td>\n",
       "      <td>942333.000000</td>\n",
       "    </tr>\n",
       "    <tr>\n",
       "      <th>mean</th>\n",
       "      <td>1222.577555</td>\n",
       "      <td>31306.113708</td>\n",
       "      <td>31307.143061</td>\n",
       "    </tr>\n",
       "    <tr>\n",
       "      <th>std</th>\n",
       "      <td>2818.195015</td>\n",
       "      <td>207.970587</td>\n",
       "      <td>204.852343</td>\n",
       "    </tr>\n",
       "    <tr>\n",
       "      <th>min</th>\n",
       "      <td>60.000000</td>\n",
       "      <td>31000.000000</td>\n",
       "      <td>31000.000000</td>\n",
       "    </tr>\n",
       "    <tr>\n",
       "      <th>25%</th>\n",
       "      <td>419.000000</td>\n",
       "      <td>31203.000000</td>\n",
       "      <td>31205.000000</td>\n",
       "    </tr>\n",
       "    <tr>\n",
       "      <th>50%</th>\n",
       "      <td>719.000000</td>\n",
       "      <td>31247.000000</td>\n",
       "      <td>31247.000000</td>\n",
       "    </tr>\n",
       "    <tr>\n",
       "      <th>75%</th>\n",
       "      <td>1216.000000</td>\n",
       "      <td>31401.000000</td>\n",
       "      <td>31400.000000</td>\n",
       "    </tr>\n",
       "    <tr>\n",
       "      <th>max</th>\n",
       "      <td>86357.000000</td>\n",
       "      <td>32056.000000</td>\n",
       "      <td>32056.000000</td>\n",
       "    </tr>\n",
       "  </tbody>\n",
       "</table>\n",
       "</div>"
      ],
      "text/plain": [
       "            duration     startlocID       endlocID\n",
       "count  942333.000000  942333.000000  942333.000000\n",
       "mean     1222.577555   31306.113708   31307.143061\n",
       "std      2818.195015     207.970587     204.852343\n",
       "min        60.000000   31000.000000   31000.000000\n",
       "25%       419.000000   31203.000000   31205.000000\n",
       "50%       719.000000   31247.000000   31247.000000\n",
       "75%      1216.000000   31401.000000   31400.000000\n",
       "max     86357.000000   32056.000000   32056.000000"
      ]
     },
     "execution_count": 30,
     "metadata": {},
     "output_type": "execute_result"
    }
   ],
   "source": [
    "Q2.describe() # looks like Q2-4 are in seconds, not milliseconds?"
   ]
  },
  {
   "cell_type": "code",
   "execution_count": 31,
   "metadata": {},
   "outputs": [
    {
     "data": {
      "text/html": [
       "<div>\n",
       "<style>\n",
       "    .dataframe thead tr:only-child th {\n",
       "        text-align: right;\n",
       "    }\n",
       "\n",
       "    .dataframe thead th {\n",
       "        text-align: left;\n",
       "    }\n",
       "\n",
       "    .dataframe tbody tr th {\n",
       "        vertical-align: top;\n",
       "    }\n",
       "</style>\n",
       "<table border=\"1\" class=\"dataframe\">\n",
       "  <thead>\n",
       "    <tr style=\"text-align: right;\">\n",
       "      <th></th>\n",
       "      <th>duration</th>\n",
       "      <th>startlocID</th>\n",
       "      <th>endlocID</th>\n",
       "    </tr>\n",
       "  </thead>\n",
       "  <tbody>\n",
       "    <tr>\n",
       "      <th>count</th>\n",
       "      <td>1.068194e+06</td>\n",
       "      <td>1.068194e+06</td>\n",
       "      <td>1.068194e+06</td>\n",
       "    </tr>\n",
       "    <tr>\n",
       "      <th>mean</th>\n",
       "      <td>1.247531e+03</td>\n",
       "      <td>3.130839e+04</td>\n",
       "      <td>3.130895e+04</td>\n",
       "    </tr>\n",
       "    <tr>\n",
       "      <th>std</th>\n",
       "      <td>2.575945e+03</td>\n",
       "      <td>2.081534e+02</td>\n",
       "      <td>2.050651e+02</td>\n",
       "    </tr>\n",
       "    <tr>\n",
       "      <th>min</th>\n",
       "      <td>6.000000e+01</td>\n",
       "      <td>3.100000e+04</td>\n",
       "      <td>3.100000e+04</td>\n",
       "    </tr>\n",
       "    <tr>\n",
       "      <th>25%</th>\n",
       "      <td>4.330000e+02</td>\n",
       "      <td>3.120400e+04</td>\n",
       "      <td>3.120900e+04</td>\n",
       "    </tr>\n",
       "    <tr>\n",
       "      <th>50%</th>\n",
       "      <td>7.420000e+02</td>\n",
       "      <td>3.124900e+04</td>\n",
       "      <td>3.124900e+04</td>\n",
       "    </tr>\n",
       "    <tr>\n",
       "      <th>75%</th>\n",
       "      <td>1.265000e+03</td>\n",
       "      <td>3.140000e+04</td>\n",
       "      <td>3.131400e+04</td>\n",
       "    </tr>\n",
       "    <tr>\n",
       "      <th>max</th>\n",
       "      <td>8.634000e+04</td>\n",
       "      <td>3.205600e+04</td>\n",
       "      <td>3.205600e+04</td>\n",
       "    </tr>\n",
       "  </tbody>\n",
       "</table>\n",
       "</div>"
      ],
      "text/plain": [
       "           duration    startlocID      endlocID\n",
       "count  1.068194e+06  1.068194e+06  1.068194e+06\n",
       "mean   1.247531e+03  3.130839e+04  3.130895e+04\n",
       "std    2.575945e+03  2.081534e+02  2.050651e+02\n",
       "min    6.000000e+01  3.100000e+04  3.100000e+04\n",
       "25%    4.330000e+02  3.120400e+04  3.120900e+04\n",
       "50%    7.420000e+02  3.124900e+04  3.124900e+04\n",
       "75%    1.265000e+03  3.140000e+04  3.131400e+04\n",
       "max    8.634000e+04  3.205600e+04  3.205600e+04"
      ]
     },
     "execution_count": 31,
     "metadata": {},
     "output_type": "execute_result"
    }
   ],
   "source": [
    "Q3.describe()"
   ]
  },
  {
   "cell_type": "code",
   "execution_count": 32,
   "metadata": {},
   "outputs": [
    {
     "data": {
      "text/html": [
       "<div>\n",
       "<style>\n",
       "    .dataframe thead tr:only-child th {\n",
       "        text-align: right;\n",
       "    }\n",
       "\n",
       "    .dataframe thead th {\n",
       "        text-align: left;\n",
       "    }\n",
       "\n",
       "    .dataframe tbody tr th {\n",
       "        vertical-align: top;\n",
       "    }\n",
       "</style>\n",
       "<table border=\"1\" class=\"dataframe\">\n",
       "  <thead>\n",
       "    <tr style=\"text-align: right;\">\n",
       "      <th></th>\n",
       "      <th>duration</th>\n",
       "      <th>startlocID</th>\n",
       "      <th>endlocID</th>\n",
       "    </tr>\n",
       "  </thead>\n",
       "  <tbody>\n",
       "    <tr>\n",
       "      <th>count</th>\n",
       "      <td>5.523990e+05</td>\n",
       "      <td>552399.000000</td>\n",
       "      <td>552399.000000</td>\n",
       "    </tr>\n",
       "    <tr>\n",
       "      <th>mean</th>\n",
       "      <td>9.933718e+05</td>\n",
       "      <td>31306.364765</td>\n",
       "      <td>31307.738463</td>\n",
       "    </tr>\n",
       "    <tr>\n",
       "      <th>std</th>\n",
       "      <td>2.073981e+06</td>\n",
       "      <td>206.645237</td>\n",
       "      <td>203.722765</td>\n",
       "    </tr>\n",
       "    <tr>\n",
       "      <th>min</th>\n",
       "      <td>6.002500e+04</td>\n",
       "      <td>31000.000000</td>\n",
       "      <td>31000.000000</td>\n",
       "    </tr>\n",
       "    <tr>\n",
       "      <th>25%</th>\n",
       "      <td>3.715635e+05</td>\n",
       "      <td>31202.000000</td>\n",
       "      <td>31204.000000</td>\n",
       "    </tr>\n",
       "    <tr>\n",
       "      <th>50%</th>\n",
       "      <td>6.220460e+05</td>\n",
       "      <td>31246.000000</td>\n",
       "      <td>31246.000000</td>\n",
       "    </tr>\n",
       "    <tr>\n",
       "      <th>75%</th>\n",
       "      <td>1.048232e+06</td>\n",
       "      <td>31408.000000</td>\n",
       "      <td>31405.000000</td>\n",
       "    </tr>\n",
       "    <tr>\n",
       "      <th>max</th>\n",
       "      <td>8.630620e+07</td>\n",
       "      <td>32053.000000</td>\n",
       "      <td>32053.000000</td>\n",
       "    </tr>\n",
       "  </tbody>\n",
       "</table>\n",
       "</div>"
      ],
      "text/plain": [
       "           duration     startlocID       endlocID\n",
       "count  5.523990e+05  552399.000000  552399.000000\n",
       "mean   9.933718e+05   31306.364765   31307.738463\n",
       "std    2.073981e+06     206.645237     203.722765\n",
       "min    6.002500e+04   31000.000000   31000.000000\n",
       "25%    3.715635e+05   31202.000000   31204.000000\n",
       "50%    6.220460e+05   31246.000000   31246.000000\n",
       "75%    1.048232e+06   31408.000000   31405.000000\n",
       "max    8.630620e+07   32053.000000   32053.000000"
      ]
     },
     "execution_count": 32,
     "metadata": {},
     "output_type": "execute_result"
    }
   ],
   "source": [
    "Q1.describe()"
   ]
  },
  {
   "cell_type": "code",
   "execution_count": 24,
   "metadata": {},
   "outputs": [
    {
     "data": {
      "text/html": [
       "<div>\n",
       "<style>\n",
       "    .dataframe thead tr:only-child th {\n",
       "        text-align: right;\n",
       "    }\n",
       "\n",
       "    .dataframe thead th {\n",
       "        text-align: left;\n",
       "    }\n",
       "\n",
       "    .dataframe tbody tr th {\n",
       "        vertical-align: top;\n",
       "    }\n",
       "</style>\n",
       "<table border=\"1\" class=\"dataframe\">\n",
       "  <thead>\n",
       "    <tr style=\"text-align: right;\">\n",
       "      <th></th>\n",
       "      <th>duration</th>\n",
       "      <th>enddate</th>\n",
       "      <th>startlocID</th>\n",
       "      <th>startloc</th>\n",
       "      <th>endlocID</th>\n",
       "      <th>endloc</th>\n",
       "      <th>bikeID</th>\n",
       "      <th>memtype</th>\n",
       "    </tr>\n",
       "  </thead>\n",
       "  <tbody>\n",
       "    <tr>\n",
       "      <th>2016-03-31 23:59:00</th>\n",
       "      <td>5.021593</td>\n",
       "      <td>4/1/2016 0:04</td>\n",
       "      <td>31280</td>\n",
       "      <td>11th &amp; S St NW</td>\n",
       "      <td>31506</td>\n",
       "      <td>1st &amp; Rhode Island Ave NW</td>\n",
       "      <td>W00022</td>\n",
       "      <td>Registered</td>\n",
       "    </tr>\n",
       "    <tr>\n",
       "      <th>2016-03-31 23:59:00</th>\n",
       "      <td>9.298135</td>\n",
       "      <td>4/1/2016 0:08</td>\n",
       "      <td>31275</td>\n",
       "      <td>New Hampshire Ave &amp; 24th St NW</td>\n",
       "      <td>31114</td>\n",
       "      <td>18th St &amp; Wyoming Ave NW</td>\n",
       "      <td>W01294</td>\n",
       "      <td>Registered</td>\n",
       "    </tr>\n",
       "    <tr>\n",
       "      <th>2016-03-31 23:59:00</th>\n",
       "      <td>9.265752</td>\n",
       "      <td>4/1/2016 0:08</td>\n",
       "      <td>31101</td>\n",
       "      <td>14th &amp; V St NW</td>\n",
       "      <td>31221</td>\n",
       "      <td>18th &amp; M St NW</td>\n",
       "      <td>W01416</td>\n",
       "      <td>Registered</td>\n",
       "    </tr>\n",
       "    <tr>\n",
       "      <th>2016-03-31 23:57:00</th>\n",
       "      <td>12.781959</td>\n",
       "      <td>4/1/2016 0:09</td>\n",
       "      <td>31226</td>\n",
       "      <td>34th St &amp; Wisconsin Ave NW</td>\n",
       "      <td>31214</td>\n",
       "      <td>17th &amp; Corcoran St NW</td>\n",
       "      <td>W01090</td>\n",
       "      <td>Registered</td>\n",
       "    </tr>\n",
       "    <tr>\n",
       "      <th>2016-03-31 23:57:00</th>\n",
       "      <td>2.327605</td>\n",
       "      <td>3/31/2016 23:59</td>\n",
       "      <td>31011</td>\n",
       "      <td>23rd &amp; Crystal Dr</td>\n",
       "      <td>31009</td>\n",
       "      <td>27th &amp; Crystal Dr</td>\n",
       "      <td>W21934</td>\n",
       "      <td>Registered</td>\n",
       "    </tr>\n",
       "  </tbody>\n",
       "</table>\n",
       "</div>"
      ],
      "text/plain": [
       "                      duration          enddate  startlocID  \\\n",
       "2016-03-31 23:59:00   5.021593    4/1/2016 0:04       31280   \n",
       "2016-03-31 23:59:00   9.298135    4/1/2016 0:08       31275   \n",
       "2016-03-31 23:59:00   9.265752    4/1/2016 0:08       31101   \n",
       "2016-03-31 23:57:00  12.781959    4/1/2016 0:09       31226   \n",
       "2016-03-31 23:57:00   2.327605  3/31/2016 23:59       31011   \n",
       "\n",
       "                                           startloc  endlocID  \\\n",
       "2016-03-31 23:59:00                  11th & S St NW     31506   \n",
       "2016-03-31 23:59:00  New Hampshire Ave & 24th St NW     31114   \n",
       "2016-03-31 23:59:00                  14th & V St NW     31221   \n",
       "2016-03-31 23:57:00      34th St & Wisconsin Ave NW     31214   \n",
       "2016-03-31 23:57:00               23rd & Crystal Dr     31009   \n",
       "\n",
       "                                        endloc  bikeID     memtype  \n",
       "2016-03-31 23:59:00  1st & Rhode Island Ave NW  W00022  Registered  \n",
       "2016-03-31 23:59:00   18th St & Wyoming Ave NW  W01294  Registered  \n",
       "2016-03-31 23:59:00             18th & M St NW  W01416  Registered  \n",
       "2016-03-31 23:57:00      17th & Corcoran St NW  W01090  Registered  \n",
       "2016-03-31 23:57:00          27th & Crystal Dr  W21934  Registered  "
      ]
     },
     "execution_count": 24,
     "metadata": {},
     "output_type": "execute_result"
    }
   ],
   "source": [
    "bike2016 = Q1.append([Q2,Q3,Q4])\n",
    "bike2016.duration = bike2016.duration * 1.66667e-5\n",
    "bike2016.head()"
   ]
  },
  {
   "cell_type": "code",
   "execution_count": 27,
   "metadata": {
    "scrolled": true
   },
   "outputs": [
    {
     "data": {
      "text/plain": [
       "<matplotlib.text.Text at 0x14cc6a4a8>"
      ]
     },
     "execution_count": 27,
     "metadata": {},
     "output_type": "execute_result"
    },
    {
     "data": {
      "image/png": "[encoded data removed]",
      "text/plain": [
       "<matplotlib.figure.Figure at 0x158755eb8>"
      ]
     },
     "metadata": {},
     "output_type": "display_data"
    }
   ],
   "source": [
    "fig, ax = plt.subplots(1, 1)\n",
    "fig.set_size_inches(12,6)\n",
    "duration = bike2016['duration']\n",
    "smoothed = duration.resample('D').mean().rolling(window=12, min_periods=1).mean()\n",
    "smoothed.plot(ax=ax)\n",
    "ax.set_xlabel('Day',fontsize=15)\n",
    "ax.set_ylabel('Rental Duration (m)',fontsize=15)"
   ]
  },
  {
   "cell_type": "markdown",
   "metadata": {},
   "source": [
    "Are there different durations for registered versus casual members?"
   ]
  },
  {
   "cell_type": "code",
   "execution_count": 6,
   "metadata": {
    "collapsed": true
   },
   "outputs": [],
   "source": [
    "durationReg = bikeshare['duration'][bikeshare['memtype']=='Registered']\n",
    "durationCas = bikeshare['duration'][bikeshare['memtype']=='Casual']\n",
    "\n",
    "smoothedReg = durationReg.resample('D').mean().rolling(window=8, min_periods=1).mean()\n",
    "smoothedCas = durationCas.resample('D').mean().rolling(window=8, min_periods=1).mean()"
   ]
  },
  {
   "cell_type": "code",
   "execution_count": 7,
   "metadata": {},
   "outputs": [
    {
     "data": {
      "image/png": "[encoded data removed]",
      "text/plain": [
       "<matplotlib.figure.Figure at 0x125510e48>"
      ]
     },
     "metadata": {},
     "output_type": "display_data"
    }
   ],
   "source": [
    "fig, ax = plt.subplots(1)\n",
    "fig.set_size_inches(12,6)\n",
    "ax.plot(smoothedReg, label='Registered')\n",
    "ax.plot(smoothedCas, label='Casual')\n",
    "ax.set_xlabel('Day',fontsize=20)\n",
    "ax.set_ylabel('Rental Duration (m)',fontsize=20)\n",
    "fig.suptitle('Duration of rentals by user type', fontsize=22)\n",
    "ax.legend(fontsize=15)\n",
    "plt.savefig('bike_rolling_type',bbox_inches='tight',dpi=300)"
   ]
  },
  {
   "cell_type": "code",
   "execution_count": 1,
   "metadata": {},
   "outputs": [
    {
     "ename": "NameError",
     "evalue": "name 'bikeshare' is not defined",
     "output_type": "error",
     "traceback": [
      "\u001b[0;31m---------------------------------------------------------------------------\u001b[0m",
      "\u001b[0;31mNameError\u001b[0m                                 Traceback (most recent call last)",
      "\u001b[0;32m<ipython-input-1-3590e4e6a129>\u001b[0m in \u001b[0;36m<module>\u001b[0;34m()\u001b[0m\n\u001b[0;32m----> 1\u001b[0;31m \u001b[0mbikeshare\u001b[0m\u001b[0;34m[\u001b[0m\u001b[0;34m'startdate'\u001b[0m\u001b[0;34m]\u001b[0m \u001b[0;34m=\u001b[0m \u001b[0mbikeshare\u001b[0m\u001b[0;34m.\u001b[0m\u001b[0mindex\u001b[0m\u001b[0;34m\u001b[0m\u001b[0m\n\u001b[0m\u001b[1;32m      2\u001b[0m \u001b[0mbikeshare\u001b[0m\u001b[0;34m[\u001b[0m\u001b[0;34m'startweekday'\u001b[0m\u001b[0;34m]\u001b[0m \u001b[0;34m=\u001b[0m \u001b[0mbikeshare\u001b[0m\u001b[0;34m[\u001b[0m\u001b[0;34m'startdate'\u001b[0m\u001b[0;34m]\u001b[0m\u001b[0;34m.\u001b[0m\u001b[0mapply\u001b[0m\u001b[0;34m(\u001b[0m\u001b[0;32mlambda\u001b[0m \u001b[0md\u001b[0m\u001b[0;34m:\u001b[0m \u001b[0md\u001b[0m\u001b[0;34m.\u001b[0m\u001b[0mweekday\u001b[0m\u001b[0;34m(\u001b[0m\u001b[0;34m)\u001b[0m\u001b[0;34m)\u001b[0m\u001b[0;34m\u001b[0m\u001b[0m\n",
      "\u001b[0;31mNameError\u001b[0m: name 'bikeshare' is not defined"
     ]
    }
   ],
   "source": [
    "bikeshare['startdate'] = bikeshare.index\n",
    "bikeshare['startweekday'] = bikeshare['startdate'].apply(lambda d: d.weekday())"
   ]
  },
  {
   "cell_type": "code",
   "execution_count": 9,
   "metadata": {},
   "outputs": [
    {
     "data": {
      "image/png": "[encoded data removed]",
      "text/plain": [
       "<matplotlib.figure.Figure at 0x11ba87ef0>"
      ]
     },
     "metadata": {},
     "output_type": "display_data"
    }
   ],
   "source": [
    "FreqReg=bikeshare['startweekday'][bikeshare['memtype']=='Registered'].value_counts().sort_index()\n",
    "FreqCas=bikeshare['startweekday'][bikeshare['memtype']=='Casual'].value_counts().sort_index()\n",
    "ticks=['Mon','Tue','Wed','Thu','Fri','Sat','Sun'] \n",
    "fig, axes = plt.subplots(1, 2, sharey=True)\n",
    "fig.set_size_inches(12,8)\n",
    "FreqReg.plot(kind='bar', ax=axes[0],title='Registered',fontsize=14)\n",
    "FreqCas.plot(kind='bar', ax=axes[1],title='Casual',fontsize=14)\n",
    "axes[0].set_xticklabels(ticks)\n",
    "axes[1].set_xticklabels(ticks)\n",
    "fig.suptitle('Frequency of rentals by user type', fontsize=25)\n",
    "axes[0].set_xlabel('Day of the Week',fontsize=20)\n",
    "axes[0].set_ylabel('Rental Frequency',fontsize=20)\n",
    "axes[1].set_xlabel('Day of the Week',fontsize=20)\n",
    "plt.savefig('bike_histo_type',bbox='tight',dpi=300)"
   ]
  },
  {
   "cell_type": "markdown",
   "metadata": {},
   "source": [
    "## Next steps:"
   ]
  },
  {
   "cell_type": "markdown",
   "metadata": {},
   "source": [
    "To move this story forward, we can ask some questions, such as:\n",
    "1. Can we predict user type by the bike ride duration?\n",
    "2. Can we predict user type by the day of the week?\n",
    "3. Compare this winter/spring data to summer or fall data - do the answers to the above questions change?"
   ]
  }
 ],
 "metadata": {
  "kernelspec": {
   "display_name": "Python 3",
   "language": "python",
   "name": "python3"
  },
  "language_info": {
   "codemirror_mode": {
    "name": "ipython",
    "version": 3
   },
   "file_extension": ".py",
   "mimetype": "text/x-python",
   "name": "python",
   "nbconvert_exporter": "python",
   "pygments_lexer": "ipython3",
   "version": "3.6.1"
  }
 },
 "nbformat": 4,
 "nbformat_minor": 2
}
