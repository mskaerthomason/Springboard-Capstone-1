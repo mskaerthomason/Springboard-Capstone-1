{
 "cells": [
  {
   "cell_type": "markdown",
   "metadata": {},
   "source": [
    "## DATA STORY: bikeshare data for Capstone 1"
   ]
  },
  {
   "cell_type": "markdown",
   "metadata": {},
   "source": [
    "Let's start again with reading in a test file of bikeshare data, Quarter 1 in 2016, and converting the duration from milliseconds to minutes. As a reminder, the data can be found here, https://s3.amazonaws.com/capitalbikeshare-data/index.html."
   ]
  },
  {
   "cell_type": "code",
   "execution_count": 1,
   "metadata": {},
   "outputs": [
    {
     "data": {
      "text/html": [
       "<div>\n",
       "<style>\n",
       "    .dataframe thead tr:only-child th {\n",
       "        text-align: right;\n",
       "    }\n",
       "\n",
       "    .dataframe thead th {\n",
       "        text-align: left;\n",
       "    }\n",
       "\n",
       "    .dataframe tbody tr th {\n",
       "        vertical-align: top;\n",
       "    }\n",
       "</style>\n",
       "<table border=\"1\" class=\"dataframe\">\n",
       "  <thead>\n",
       "    <tr style=\"text-align: right;\">\n",
       "      <th></th>\n",
       "      <th>duration</th>\n",
       "      <th>enddate</th>\n",
       "      <th>startlocID</th>\n",
       "      <th>startloc</th>\n",
       "      <th>endlocID</th>\n",
       "      <th>endloc</th>\n",
       "      <th>bikeID</th>\n",
       "      <th>memtype</th>\n",
       "    </tr>\n",
       "    <tr>\n",
       "      <th>Start date</th>\n",
       "      <th></th>\n",
       "      <th></th>\n",
       "      <th></th>\n",
       "      <th></th>\n",
       "      <th></th>\n",
       "      <th></th>\n",
       "      <th></th>\n",
       "      <th></th>\n",
       "    </tr>\n",
       "  </thead>\n",
       "  <tbody>\n",
       "    <tr>\n",
       "      <th>2016-03-31 23:59:00</th>\n",
       "      <td>301295</td>\n",
       "      <td>4/1/2016 0:04</td>\n",
       "      <td>31280</td>\n",
       "      <td>11th &amp; S St NW</td>\n",
       "      <td>31506</td>\n",
       "      <td>1st &amp; Rhode Island Ave NW</td>\n",
       "      <td>W00022</td>\n",
       "      <td>Registered</td>\n",
       "    </tr>\n",
       "    <tr>\n",
       "      <th>2016-03-31 23:59:00</th>\n",
       "      <td>557887</td>\n",
       "      <td>4/1/2016 0:08</td>\n",
       "      <td>31275</td>\n",
       "      <td>New Hampshire Ave &amp; 24th St NW</td>\n",
       "      <td>31114</td>\n",
       "      <td>18th St &amp; Wyoming Ave NW</td>\n",
       "      <td>W01294</td>\n",
       "      <td>Registered</td>\n",
       "    </tr>\n",
       "    <tr>\n",
       "      <th>2016-03-31 23:59:00</th>\n",
       "      <td>555944</td>\n",
       "      <td>4/1/2016 0:08</td>\n",
       "      <td>31101</td>\n",
       "      <td>14th &amp; V St NW</td>\n",
       "      <td>31221</td>\n",
       "      <td>18th &amp; M St NW</td>\n",
       "      <td>W01416</td>\n",
       "      <td>Registered</td>\n",
       "    </tr>\n",
       "    <tr>\n",
       "      <th>2016-03-31 23:57:00</th>\n",
       "      <td>766916</td>\n",
       "      <td>4/1/2016 0:09</td>\n",
       "      <td>31226</td>\n",
       "      <td>34th St &amp; Wisconsin Ave NW</td>\n",
       "      <td>31214</td>\n",
       "      <td>17th &amp; Corcoran St NW</td>\n",
       "      <td>W01090</td>\n",
       "      <td>Registered</td>\n",
       "    </tr>\n",
       "    <tr>\n",
       "      <th>2016-03-31 23:57:00</th>\n",
       "      <td>139656</td>\n",
       "      <td>3/31/2016 23:59</td>\n",
       "      <td>31011</td>\n",
       "      <td>23rd &amp; Crystal Dr</td>\n",
       "      <td>31009</td>\n",
       "      <td>27th &amp; Crystal Dr</td>\n",
       "      <td>W21934</td>\n",
       "      <td>Registered</td>\n",
       "    </tr>\n",
       "  </tbody>\n",
       "</table>\n",
       "</div>"
      ],
      "text/plain": [
       "                     duration          enddate  startlocID  \\\n",
       "Start date                                                   \n",
       "2016-03-31 23:59:00    301295    4/1/2016 0:04       31280   \n",
       "2016-03-31 23:59:00    557887    4/1/2016 0:08       31275   \n",
       "2016-03-31 23:59:00    555944    4/1/2016 0:08       31101   \n",
       "2016-03-31 23:57:00    766916    4/1/2016 0:09       31226   \n",
       "2016-03-31 23:57:00    139656  3/31/2016 23:59       31011   \n",
       "\n",
       "                                           startloc  endlocID  \\\n",
       "Start date                                                      \n",
       "2016-03-31 23:59:00                  11th & S St NW     31506   \n",
       "2016-03-31 23:59:00  New Hampshire Ave & 24th St NW     31114   \n",
       "2016-03-31 23:59:00                  14th & V St NW     31221   \n",
       "2016-03-31 23:57:00      34th St & Wisconsin Ave NW     31214   \n",
       "2016-03-31 23:57:00               23rd & Crystal Dr     31009   \n",
       "\n",
       "                                        endloc  bikeID     memtype  \n",
       "Start date                                                          \n",
       "2016-03-31 23:59:00  1st & Rhode Island Ave NW  W00022  Registered  \n",
       "2016-03-31 23:59:00   18th St & Wyoming Ave NW  W01294  Registered  \n",
       "2016-03-31 23:59:00             18th & M St NW  W01416  Registered  \n",
       "2016-03-31 23:57:00      17th & Corcoran St NW  W01090  Registered  \n",
       "2016-03-31 23:57:00          27th & Crystal Dr  W21934  Registered  "
      ]
     },
     "execution_count": 1,
     "metadata": {},
     "output_type": "execute_result"
    }
   ],
   "source": [
    "import pandas as pd\n",
    "dateparse = lambda x: pd.datetime.strptime(x, '%m/%d/%Y %H:%M')\n",
    "bikeshare = pd.read_csv('../Data Wrangling/data/2016-Q1-Trips-History-Data.csv', \n",
    "                        parse_dates=True, date_parser=dateparse, index_col='Start date')\n",
    "bikeshare.columns = ['duration','enddate','startlocID','startloc','endlocID','endloc','bikeID','memtype']\n",
    "bikeshare.head()"
   ]
  },
  {
   "cell_type": "code",
   "execution_count": 2,
   "metadata": {
    "collapsed": true
   },
   "outputs": [],
   "source": [
    "bikeshare.duration = bikeshare.duration * 1.66667e-5"
   ]
  },
  {
   "cell_type": "markdown",
   "metadata": {},
   "source": [
    "The first step is to start visualizing the data, here is a histogram of duration of bike rentals."
   ]
  },
  {
   "cell_type": "code",
   "execution_count": 3,
   "metadata": {},
   "outputs": [
    {
     "data": {
      "image/png": "[encoded data removed]",
      "text/plain": [
       "<matplotlib.figure.Figure at 0x115351dd8>"
      ]
     },
     "metadata": {},
     "output_type": "display_data"
    }
   ],
   "source": [
    "import matplotlib.pyplot as plt\n",
    "bikeshare.plot(y='duration', kind='hist')\n",
    "plt.show()"
   ]
  },
  {
   "cell_type": "markdown",
   "metadata": {},
   "source": [
    "The default choice for number of bins doesn't give us much information.  To 'zoom in' on some of the detail in the distribution, let's increase the number of bins. This gives us a better idea of the distribution. Many of the rides are clustered at the lower tail (i.e. this is a skewed distribution), where rental duration is ~ 8-10 minutes."
   ]
  },
  {
   "cell_type": "code",
   "execution_count": 4,
   "metadata": {},
   "outputs": [
    {
     "data": {
      "image/png": "[encoded data removed]",
      "text/plain": [
       "<matplotlib.figure.Figure at 0x10659f6a0>"
      ]
     },
     "metadata": {},
     "output_type": "display_data"
    }
   ],
   "source": [
    "bikeshare.plot(y='duration', kind='hist', bins=50, range=(0,200))\n",
    "plt.show()"
   ]
  },
  {
   "cell_type": "markdown",
   "metadata": {},
   "source": [
    "What are the patterns of bike rental duration over the course of two months in the quarter? Let's use February and March as an example. "
   ]
  },
  {
   "cell_type": "code",
   "execution_count": 11,
   "metadata": {
    "scrolled": true
   },
   "outputs": [
    {
     "data": {
      "image/png": "[encoded data removed]",
      "text/plain": [
       "<matplotlib.figure.Figure at 0x11251f390>"
      ]
     },
     "metadata": {},
     "output_type": "display_data"
    }
   ],
   "source": [
    "duration = bikeshare['duration']\n",
    "plt.plot(duration.loc['2016-02':'2016-03'])\n",
    "plt.show()"
   ]
  },
  {
   "cell_type": "markdown",
   "metadata": {},
   "source": [
    "There is definitely variation in rental duration over these two months, but it's hard to digest this information.  Let's calculate a weekly moving average to smooth out the chaos for easier interpretation."
   ]
  },
  {
   "cell_type": "code",
   "execution_count": 18,
   "metadata": {},
   "outputs": [
    {
     "data": {
      "image/png": "[encoded data removed]",
      "text/plain": [
       "<matplotlib.figure.Figure at 0x1158c8400>"
      ]
     },
     "metadata": {},
     "output_type": "display_data"
    }
   ],
   "source": [
    "smoothed = duration.resample('D').mean().rolling(window=7).mean()\n",
    "plt.plot(smoothed.loc['2016-02':'2016-03'])\n",
    "plt.show()"
   ]
  },
  {
   "cell_type": "markdown",
   "metadata": {},
   "source": [
    "Yes, there are certainly some trends over time in this short window. Duration of rentals look to be icreasing into the end of March 2016. It would be interesting to followup by looking at other months in 2016, or comparing to the same period in a different year. I'll add these to the \"Next Steps\", below. \n",
    "It is important to note that since we are looking at a weekly moving average, we are loosing some information.  Are there consistent patterns across the days of the week?"
   ]
  },
  {
   "cell_type": "code",
   "execution_count": 6,
   "metadata": {
    "collapsed": true
   },
   "outputs": [],
   "source": [
    "bikeshare['startdate'] = bikeshare.index\n",
    "bikeshare['startweekday'] = bikeshare['startdate'].apply(lambda d: d.weekday())"
   ]
  },
  {
   "cell_type": "code",
   "execution_count": 7,
   "metadata": {},
   "outputs": [
    {
     "data": {
      "image/png": "[encoded data removed]",
      "text/plain": [
       "<matplotlib.figure.Figure at 0x112c88898>"
      ]
     },
     "metadata": {},
     "output_type": "display_data"
    }
   ],
   "source": [
    "bikeshare['startweekday'].value_counts().sort_index().plot(kind='bar')\n",
    "plt.show()\n",
    "#0= Sunday, 6=Saturday"
   ]
  },
  {
   "cell_type": "markdown",
   "metadata": {},
   "source": [
    "Yes again: Frequency of bike rental seems to peak on Wednesdays (3), and taper off toward Saturday (6). Are there different distributions in bike rentals for registered vs. casual members?"
   ]
  },
  {
   "cell_type": "code",
   "execution_count": 14,
   "metadata": {},
   "outputs": [
    {
     "data": {
      "image/png": "[encoded data removed]",
      "text/plain": [
       "<matplotlib.figure.Figure at 0x1152d4908>"
      ]
     },
     "metadata": {},
     "output_type": "display_data"
    }
   ],
   "source": [
    "bikeshare['startweekday'][bikeshare['memtype']=='Registered'].value_counts().sort_index().plot(kind='bar', title=\"Registered\")\n",
    "plt.show()"
   ]
  },
  {
   "cell_type": "code",
   "execution_count": 13,
   "metadata": {},
   "outputs": [
    {
     "data": {
      "image/png": "[encoded data removed]",
      "text/plain": [
       "<matplotlib.figure.Figure at 0x114ff5b38>"
      ]
     },
     "metadata": {},
     "output_type": "display_data"
    }
   ],
   "source": [
    "bikeshare['startweekday'][bikeshare['memtype']=='Casual'].value_counts().sort_index().plot(kind='bar', title=\"Casual\")\n",
    "plt.show()"
   ]
  },
  {
   "cell_type": "markdown",
   "metadata": {},
   "source": [
    "There are some big differences between frequency of bike rentals in registered and causal users. As one might expect, registered users, who might be residents of DC, or frequent travelers, tend to rent bikes most freqently during the work week.  On the contrary, the heaviest casual use is on Friday and Saturday."
   ]
  },
  {
   "cell_type": "markdown",
   "metadata": {
    "collapsed": true
   },
   "source": [
    "## So, what's the story?"
   ]
  },
  {
   "cell_type": "markdown",
   "metadata": {},
   "source": [
    "So far, we've learned there is quite a bit of variation in length of bike rental for Capital Bikeshare in Washington, D.C.  \n",
    "\n",
    "However, it seems there may be some consistent patterns in rentals by day of the week.  \n",
    "\n",
    "Finally, causal and registered users have different patterns in use through the week.  \n",
    "\n"
   ]
  },
  {
   "cell_type": "markdown",
   "metadata": {},
   "source": [
    "## Next steps:"
   ]
  },
  {
   "cell_type": "markdown",
   "metadata": {},
   "source": [
    "To move this story forward, we can ask some questions, such as:\n",
    "1. Can we predict user type by the bike ride duration?\n",
    "2. Can we predict user type by the day of the week?\n",
    "3. Compare this winter/spring data to summer or fall data - do the answers to the above questions change?"
   ]
  }
 ],
 "metadata": {
  "kernelspec": {
   "display_name": "Python 3",
   "language": "python",
   "name": "python3"
  },
  "language_info": {
   "codemirror_mode": {
    "name": "ipython",
    "version": 3
   },
   "file_extension": ".py",
   "mimetype": "text/x-python",
   "name": "python",
   "nbconvert_exporter": "python",
   "pygments_lexer": "ipython3",
   "version": "3.6.1"
  }
 },
 "nbformat": 4,
 "nbformat_minor": 2
}
