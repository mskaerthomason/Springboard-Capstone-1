{
 "cells": [
  {
   "cell_type": "markdown",
   "metadata": {},
   "source": [
    "## Wrangling bikeshare data for Capstone 1"
   ]
  },
  {
   "cell_type": "markdown",
   "metadata": {},
   "source": [
    "## Read the data\n",
    "### Let's start with reading in a test file of bikeshare data, Quarter 1 in 2016. We'll need to make sure the start dates and time are read appropriately.  I also want them used as the index for the file, since I'll want to ask time-related questions later on.  What does the head of this data set look like?"
   ]
  },
  {
   "cell_type": "code",
   "execution_count": 5,
   "metadata": {},
   "outputs": [
    {
     "name": "stdout",
     "output_type": "stream",
     "text": [
      "                     Duration (ms)         End date  Start station number  \\\n",
      "Start date                                                                  \n",
      "2016-03-31 23:59:00         301295    4/1/2016 0:04                 31280   \n",
      "2016-03-31 23:59:00         557887    4/1/2016 0:08                 31275   \n",
      "2016-03-31 23:59:00         555944    4/1/2016 0:08                 31101   \n",
      "2016-03-31 23:57:00         766916    4/1/2016 0:09                 31226   \n",
      "2016-03-31 23:57:00         139656  3/31/2016 23:59                 31011   \n",
      "\n",
      "                                      Start station  End station number  \\\n",
      "Start date                                                                \n",
      "2016-03-31 23:59:00                  11th & S St NW               31506   \n",
      "2016-03-31 23:59:00  New Hampshire Ave & 24th St NW               31114   \n",
      "2016-03-31 23:59:00                  14th & V St NW               31221   \n",
      "2016-03-31 23:57:00      34th St & Wisconsin Ave NW               31214   \n",
      "2016-03-31 23:57:00               23rd & Crystal Dr               31009   \n",
      "\n",
      "                                   End station Bike number Member Type  \n",
      "Start date                                                              \n",
      "2016-03-31 23:59:00  1st & Rhode Island Ave NW      W00022  Registered  \n",
      "2016-03-31 23:59:00   18th St & Wyoming Ave NW      W01294  Registered  \n",
      "2016-03-31 23:59:00             18th & M St NW      W01416  Registered  \n",
      "2016-03-31 23:57:00      17th & Corcoran St NW      W01090  Registered  \n",
      "2016-03-31 23:57:00          27th & Crystal Dr      W21934  Registered  \n"
     ]
    }
   ],
   "source": [
    "import pandas as pd\n",
    "dateparse = lambda x: pd.datetime.strptime(x, '%m/%d/%Y %H:%M')\n",
    "bikeshare = pd.read_csv('../Data Wrangling/data/2016-Q1-Trips-History-Data.csv', \n",
    "                        parse_dates=True, date_parser=dateparse, index_col='Start date')\n",
    "print(bikeshare.head())"
   ]
  },
  {
   "cell_type": "markdown",
   "metadata": {},
   "source": [
    "### What do the data look like? How many rows? Columns? What types of data are we dealing with?"
   ]
  },
  {
   "cell_type": "code",
   "execution_count": 2,
   "metadata": {
    "scrolled": true
   },
   "outputs": [
    {
     "data": {
      "text/plain": [
       "(552399, 8)"
      ]
     },
     "execution_count": 2,
     "metadata": {},
     "output_type": "execute_result"
    }
   ],
   "source": [
    "bikeshare.shape"
   ]
  },
  {
   "cell_type": "code",
   "execution_count": 3,
   "metadata": {},
   "outputs": [
    {
     "data": {
      "text/plain": [
       "Duration (ms)           552399\n",
       "End date                552399\n",
       "Start station number    552399\n",
       "Start station           552399\n",
       "End station number      552399\n",
       "End station             552399\n",
       "Bike number             552399\n",
       "Member Type             552399\n",
       "dtype: int64"
      ]
     },
     "execution_count": 3,
     "metadata": {},
     "output_type": "execute_result"
    }
   ],
   "source": [
    "bikeshare.count()"
   ]
  },
  {
   "cell_type": "code",
   "execution_count": 4,
   "metadata": {},
   "outputs": [
    {
     "name": "stdout",
     "output_type": "stream",
     "text": [
      "<class 'pandas.core.frame.DataFrame'>\n",
      "DatetimeIndex: 552399 entries, 2016-03-31 23:59:00 to 2016-01-01 00:06:00\n",
      "Data columns (total 8 columns):\n",
      "Duration (ms)           552399 non-null int64\n",
      "End date                552399 non-null object\n",
      "Start station number    552399 non-null int64\n",
      "Start station           552399 non-null object\n",
      "End station number      552399 non-null int64\n",
      "End station             552399 non-null object\n",
      "Bike number             552399 non-null object\n",
      "Member Type             552399 non-null object\n",
      "dtypes: int64(3), object(5)\n",
      "memory usage: 37.9+ MB\n"
     ]
    }
   ],
   "source": [
    "bikeshare.info()"
   ]
  },
  {
   "cell_type": "markdown",
   "metadata": {},
   "source": [
    "## Tidy the data\n",
    "### There are 552,399 rows of data in this sample data set, and 8 columns, plus the indexI created, 'start time'.  Let's tidy up a few things next.\n",
    "### First, replace column names with something easier to handle in our code."
   ]
  },
  {
   "cell_type": "code",
   "execution_count": 34,
   "metadata": {
    "collapsed": true
   },
   "outputs": [],
   "source": [
    "bikeshare.columns = ['duration','enddate','startlocID','startloc','endlocID','endloc','bikeID','memtype']"
   ]
  },
  {
   "cell_type": "code",
   "execution_count": 35,
   "metadata": {},
   "outputs": [
    {
     "name": "stdout",
     "output_type": "stream",
     "text": [
      "<class 'pandas.core.frame.DataFrame'>\n",
      "DatetimeIndex: 552399 entries, 2016-03-31 23:59:00 to 2016-01-01 00:06:00\n",
      "Data columns (total 8 columns):\n",
      "duration      552399 non-null float64\n",
      "enddate       552399 non-null object\n",
      "startlocID    552399 non-null int64\n",
      "startloc      552399 non-null object\n",
      "endlocID      552399 non-null int64\n",
      "endloc        552399 non-null object\n",
      "bikeID        552399 non-null object\n",
      "memtype       552399 non-null object\n",
      "dtypes: float64(1), int64(2), object(5)\n",
      "memory usage: 57.9+ MB\n"
     ]
    }
   ],
   "source": [
    "bikeshare.info()"
   ]
  },
  {
   "cell_type": "markdown",
   "metadata": {},
   "source": [
    "### That's better! \n",
    "\n",
    "### Notice, those durations are in MILLISECONDS (really?!).  \n",
    "\n",
    "### Let's convert to minutes."
   ]
  },
  {
   "cell_type": "code",
   "execution_count": 36,
   "metadata": {
    "collapsed": true
   },
   "outputs": [],
   "source": [
    "bikeshare.duration = bikeshare.duration * 1.66667e-5"
   ]
  },
  {
   "cell_type": "code",
   "execution_count": 37,
   "metadata": {},
   "outputs": [
    {
     "data": {
      "text/plain": [
       "Start date\n",
       "2016-03-31 23:59:00    0.000084\n",
       "2016-03-31 23:59:00    0.000155\n",
       "2016-03-31 23:59:00    0.000154\n",
       "2016-03-31 23:57:00    0.000213\n",
       "2016-03-31 23:57:00    0.000039\n",
       "Name: Duration (ms), dtype: float64"
      ]
     },
     "execution_count": 37,
     "metadata": {},
     "output_type": "execute_result"
    }
   ],
   "source": [
    "bikeshare.duration.head()"
   ]
  },
  {
   "cell_type": "markdown",
   "metadata": {
    "collapsed": true
   },
   "source": [
    "### Are there missing values? No!"
   ]
  },
  {
   "cell_type": "code",
   "execution_count": 22,
   "metadata": {},
   "outputs": [
    {
     "data": {
      "text/plain": [
       "False"
      ]
     },
     "execution_count": 22,
     "metadata": {},
     "output_type": "execute_result"
    }
   ],
   "source": [
    "bikeshare.isnull().values.any()"
   ]
  },
  {
   "cell_type": "markdown",
   "metadata": {},
   "source": [
    "### Are there outliers? What is the distribution of ride duration?"
   ]
  },
  {
   "cell_type": "code",
   "execution_count": 38,
   "metadata": {},
   "outputs": [
    {
     "data": {
      "text/html": [
       "<div>\n",
       "<style>\n",
       "    .dataframe thead tr:only-child th {\n",
       "        text-align: right;\n",
       "    }\n",
       "\n",
       "    .dataframe thead th {\n",
       "        text-align: left;\n",
       "    }\n",
       "\n",
       "    .dataframe tbody tr th {\n",
       "        vertical-align: top;\n",
       "    }\n",
       "</style>\n",
       "<table border=\"1\" class=\"dataframe\">\n",
       "  <thead>\n",
       "    <tr style=\"text-align: right;\">\n",
       "      <th></th>\n",
       "      <th>duration</th>\n",
       "      <th>startlocID</th>\n",
       "      <th>endlocID</th>\n",
       "    </tr>\n",
       "  </thead>\n",
       "  <tbody>\n",
       "    <tr>\n",
       "      <th>count</th>\n",
       "      <td>552399.000000</td>\n",
       "      <td>552399.000000</td>\n",
       "      <td>552399.000000</td>\n",
       "    </tr>\n",
       "    <tr>\n",
       "      <th>mean</th>\n",
       "      <td>16.556230</td>\n",
       "      <td>31306.364765</td>\n",
       "      <td>31307.738463</td>\n",
       "    </tr>\n",
       "    <tr>\n",
       "      <th>std</th>\n",
       "      <td>34.566415</td>\n",
       "      <td>206.645237</td>\n",
       "      <td>203.722765</td>\n",
       "    </tr>\n",
       "    <tr>\n",
       "      <th>min</th>\n",
       "      <td>1.000419</td>\n",
       "      <td>31000.000000</td>\n",
       "      <td>31000.000000</td>\n",
       "    </tr>\n",
       "    <tr>\n",
       "      <th>25%</th>\n",
       "      <td>6.192737</td>\n",
       "      <td>31202.000000</td>\n",
       "      <td>31204.000000</td>\n",
       "    </tr>\n",
       "    <tr>\n",
       "      <th>50%</th>\n",
       "      <td>10.367454</td>\n",
       "      <td>31246.000000</td>\n",
       "      <td>31246.000000</td>\n",
       "    </tr>\n",
       "    <tr>\n",
       "      <th>75%</th>\n",
       "      <td>17.470568</td>\n",
       "      <td>31408.000000</td>\n",
       "      <td>31405.000000</td>\n",
       "    </tr>\n",
       "    <tr>\n",
       "      <th>max</th>\n",
       "      <td>1438.439627</td>\n",
       "      <td>32053.000000</td>\n",
       "      <td>32053.000000</td>\n",
       "    </tr>\n",
       "  </tbody>\n",
       "</table>\n",
       "</div>"
      ],
      "text/plain": [
       "            duration     startlocID       endlocID\n",
       "count  552399.000000  552399.000000  552399.000000\n",
       "mean       16.556230   31306.364765   31307.738463\n",
       "std        34.566415     206.645237     203.722765\n",
       "min         1.000419   31000.000000   31000.000000\n",
       "25%         6.192737   31202.000000   31204.000000\n",
       "50%        10.367454   31246.000000   31246.000000\n",
       "75%        17.470568   31408.000000   31405.000000\n",
       "max      1438.439627   32053.000000   32053.000000"
      ]
     },
     "execution_count": 38,
     "metadata": {},
     "output_type": "execute_result"
    }
   ],
   "source": [
    "bikeshare.describe()"
   ]
  },
  {
   "cell_type": "markdown",
   "metadata": {},
   "source": [
    "## Summary:\n",
    "### So far, we have read in the bikeshare test dataset, used a datetime index, and replaced the column headers.  We have then converted milliseconds to minutes, for improvement interpretability.  Finally, we confirmed there are no missing values or outliers.  "
   ]
  }
 ],
 "metadata": {
  "kernelspec": {
   "display_name": "Python 3",
   "language": "python",
   "name": "python3"
  },
  "language_info": {
   "codemirror_mode": {
    "name": "ipython",
    "version": 3
   },
   "file_extension": ".py",
   "mimetype": "text/x-python",
   "name": "python",
   "nbconvert_exporter": "python",
   "pygments_lexer": "ipython3",
   "version": "3.6.1"
  }
 },
 "nbformat": 4,
 "nbformat_minor": 2
}
