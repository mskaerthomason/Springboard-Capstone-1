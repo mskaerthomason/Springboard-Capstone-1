{
 "cells": [
  {
   "cell_type": "code",
   "execution_count": 2,
   "metadata": {
    "collapsed": true
   },
   "outputs": [],
   "source": [
    "import pandas as pd\n",
    "import numpy as np\n",
    "import matplotlib.pyplot as plt\n",
    "import seaborn as sns\n",
    "import scipy.stats as stats\n",
    "%matplotlib inline"
   ]
  },
  {
   "cell_type": "code",
   "execution_count": 3,
   "metadata": {},
   "outputs": [],
   "source": [
    "#2017\n",
    "Q1_2017 = pd.read_csv('../CapstoneDrafts/data/2017Q1-capitalbikeshare-tripdata.csv', \n",
    "                        parse_dates=True, index_col=1, header=0,\n",
    "                        names=['duration','enddate','startlocID','startloc','endlocID','endloc','bikeID','memtype'])\n",
    "Q2_2017 = pd.read_csv('../CapstoneDrafts/data/2017Q2-capitalbikeshare-tripdata.csv', \n",
    "                        parse_dates=True, index_col=1, header=0,\n",
    "                        names=['duration','enddate','startlocID','startloc','endlocID','endloc','bikeID','memtype'])\n",
    "Q3_2017 = pd.read_csv('../CapstoneDrafts/data/2017Q3-capitalbikeshare-tripdata.csv', \n",
    "                        parse_dates=True, index_col=1, header=0,\n",
    "                        names=['duration','enddate','startlocID','startloc','endlocID','endloc','bikeID','memtype'])\n",
    "Q4_2017 = pd.read_csv('../CapstoneDrafts/data/2017Q4-capitalbikeshare-tripdata.csv', \n",
    "                        parse_dates=True, index_col=1, header=0,\n",
    "                        names=['duration','enddate','startlocID','startloc','endlocID','endloc','bikeID','memtype'])"
   ]
  },
  {
   "cell_type": "code",
   "execution_count": 4,
   "metadata": {},
   "outputs": [
    {
     "name": "stdout",
     "output_type": "stream",
     "text": [
      "Number of rows in the dataset for 2015: 3757777\n"
     ]
    },
    {
     "data": {
      "text/html": [
       "<div>\n",
       "<style>\n",
       "    .dataframe thead tr:only-child th {\n",
       "        text-align: right;\n",
       "    }\n",
       "\n",
       "    .dataframe thead th {\n",
       "        text-align: left;\n",
       "    }\n",
       "\n",
       "    .dataframe tbody tr th {\n",
       "        vertical-align: top;\n",
       "    }\n",
       "</style>\n",
       "<table border=\"1\" class=\"dataframe\">\n",
       "  <thead>\n",
       "    <tr style=\"text-align: right;\">\n",
       "      <th></th>\n",
       "      <th>duration</th>\n",
       "      <th>enddate</th>\n",
       "      <th>startlocID</th>\n",
       "      <th>startloc</th>\n",
       "      <th>endlocID</th>\n",
       "      <th>endloc</th>\n",
       "      <th>bikeID</th>\n",
       "      <th>memtype</th>\n",
       "      <th>startdate</th>\n",
       "    </tr>\n",
       "  </thead>\n",
       "  <tbody>\n",
       "    <tr>\n",
       "      <th>2017-01-01 00:00:41</th>\n",
       "      <td>221</td>\n",
       "      <td>2017-01-01 00:04:23</td>\n",
       "      <td>31634</td>\n",
       "      <td>3rd &amp; Tingey St SE</td>\n",
       "      <td>31208</td>\n",
       "      <td>M St &amp; New Jersey Ave SE</td>\n",
       "      <td>W00869</td>\n",
       "      <td>Member</td>\n",
       "      <td>2017-01-01 00:00:41</td>\n",
       "    </tr>\n",
       "    <tr>\n",
       "      <th>2017-01-01 00:06:53</th>\n",
       "      <td>1676</td>\n",
       "      <td>2017-01-01 00:34:49</td>\n",
       "      <td>31258</td>\n",
       "      <td>Lincoln Memorial</td>\n",
       "      <td>31270</td>\n",
       "      <td>8th &amp; D St NW</td>\n",
       "      <td>W00894</td>\n",
       "      <td>Casual</td>\n",
       "      <td>2017-01-01 00:06:53</td>\n",
       "    </tr>\n",
       "    <tr>\n",
       "      <th>2017-01-01 00:07:10</th>\n",
       "      <td>1356</td>\n",
       "      <td>2017-01-01 00:29:47</td>\n",
       "      <td>31289</td>\n",
       "      <td>Henry Bacon Dr &amp; Lincoln Memorial Circle NW</td>\n",
       "      <td>31222</td>\n",
       "      <td>New York Ave &amp; 15th St NW</td>\n",
       "      <td>W21945</td>\n",
       "      <td>Casual</td>\n",
       "      <td>2017-01-01 00:07:10</td>\n",
       "    </tr>\n",
       "    <tr>\n",
       "      <th>2017-01-01 00:07:22</th>\n",
       "      <td>1327</td>\n",
       "      <td>2017-01-01 00:29:30</td>\n",
       "      <td>31289</td>\n",
       "      <td>Henry Bacon Dr &amp; Lincoln Memorial Circle NW</td>\n",
       "      <td>31222</td>\n",
       "      <td>New York Ave &amp; 15th St NW</td>\n",
       "      <td>W20012</td>\n",
       "      <td>Casual</td>\n",
       "      <td>2017-01-01 00:07:22</td>\n",
       "    </tr>\n",
       "    <tr>\n",
       "      <th>2017-01-01 00:07:36</th>\n",
       "      <td>1636</td>\n",
       "      <td>2017-01-01 00:34:52</td>\n",
       "      <td>31258</td>\n",
       "      <td>Lincoln Memorial</td>\n",
       "      <td>31270</td>\n",
       "      <td>8th &amp; D St NW</td>\n",
       "      <td>W22786</td>\n",
       "      <td>Casual</td>\n",
       "      <td>2017-01-01 00:07:36</td>\n",
       "    </tr>\n",
       "  </tbody>\n",
       "</table>\n",
       "</div>"
      ],
      "text/plain": [
       "                     duration              enddate  startlocID  \\\n",
       "2017-01-01 00:00:41       221  2017-01-01 00:04:23       31634   \n",
       "2017-01-01 00:06:53      1676  2017-01-01 00:34:49       31258   \n",
       "2017-01-01 00:07:10      1356  2017-01-01 00:29:47       31289   \n",
       "2017-01-01 00:07:22      1327  2017-01-01 00:29:30       31289   \n",
       "2017-01-01 00:07:36      1636  2017-01-01 00:34:52       31258   \n",
       "\n",
       "                                                        startloc  endlocID  \\\n",
       "2017-01-01 00:00:41                           3rd & Tingey St SE     31208   \n",
       "2017-01-01 00:06:53                             Lincoln Memorial     31270   \n",
       "2017-01-01 00:07:10  Henry Bacon Dr & Lincoln Memorial Circle NW     31222   \n",
       "2017-01-01 00:07:22  Henry Bacon Dr & Lincoln Memorial Circle NW     31222   \n",
       "2017-01-01 00:07:36                             Lincoln Memorial     31270   \n",
       "\n",
       "                                        endloc  bikeID memtype  \\\n",
       "2017-01-01 00:00:41   M St & New Jersey Ave SE  W00869  Member   \n",
       "2017-01-01 00:06:53              8th & D St NW  W00894  Casual   \n",
       "2017-01-01 00:07:10  New York Ave & 15th St NW  W21945  Casual   \n",
       "2017-01-01 00:07:22  New York Ave & 15th St NW  W20012  Casual   \n",
       "2017-01-01 00:07:36              8th & D St NW  W22786  Casual   \n",
       "\n",
       "                              startdate  \n",
       "2017-01-01 00:00:41 2017-01-01 00:00:41  \n",
       "2017-01-01 00:06:53 2017-01-01 00:06:53  \n",
       "2017-01-01 00:07:10 2017-01-01 00:07:10  \n",
       "2017-01-01 00:07:22 2017-01-01 00:07:22  \n",
       "2017-01-01 00:07:36 2017-01-01 00:07:36  "
      ]
     },
     "execution_count": 4,
     "metadata": {},
     "output_type": "execute_result"
    }
   ],
   "source": [
    "#merge 2017\n",
    "bike2017 = Q1_2017.append([Q2_2017,Q3_2017,Q4_2017])\n",
    "bike2017['startdate'] = bike2017.index\n",
    "print('Number of rows in the dataset for 2015:',len(bike2017))\n",
    "bike2017.head()"
   ]
  },
  {
   "cell_type": "code",
   "execution_count": 5,
   "metadata": {},
   "outputs": [
    {
     "data": {
      "text/html": [
       "<div>\n",
       "<style>\n",
       "    .dataframe thead tr:only-child th {\n",
       "        text-align: right;\n",
       "    }\n",
       "\n",
       "    .dataframe thead th {\n",
       "        text-align: left;\n",
       "    }\n",
       "\n",
       "    .dataframe tbody tr th {\n",
       "        vertical-align: top;\n",
       "    }\n",
       "</style>\n",
       "<table border=\"1\" class=\"dataframe\">\n",
       "  <thead>\n",
       "    <tr style=\"text-align: right;\">\n",
       "      <th></th>\n",
       "      <th>duration</th>\n",
       "      <th>enddate</th>\n",
       "      <th>startlocID</th>\n",
       "      <th>startloc</th>\n",
       "      <th>endlocID</th>\n",
       "      <th>endloc</th>\n",
       "      <th>bikeID</th>\n",
       "      <th>memtype</th>\n",
       "      <th>startdate</th>\n",
       "      <th>timeDelt</th>\n",
       "    </tr>\n",
       "  </thead>\n",
       "  <tbody>\n",
       "    <tr>\n",
       "      <th>2017-12-31 23:43:17</th>\n",
       "      <td>277</td>\n",
       "      <td>2017-12-31 23:47:54</td>\n",
       "      <td>31109</td>\n",
       "      <td>7th &amp; T St NW</td>\n",
       "      <td>31118</td>\n",
       "      <td>3rd &amp; Elm St NW</td>\n",
       "      <td>W21036</td>\n",
       "      <td>Member</td>\n",
       "      <td>2017-12-31 23:43:17</td>\n",
       "      <td>364</td>\n",
       "    </tr>\n",
       "    <tr>\n",
       "      <th>2017-12-31 23:51:55</th>\n",
       "      <td>399</td>\n",
       "      <td>2017-12-31 23:58:35</td>\n",
       "      <td>31125</td>\n",
       "      <td>15th &amp; W St NW</td>\n",
       "      <td>31110</td>\n",
       "      <td>20th St &amp; Florida Ave NW</td>\n",
       "      <td>W23147</td>\n",
       "      <td>Casual</td>\n",
       "      <td>2017-12-31 23:51:55</td>\n",
       "      <td>364</td>\n",
       "    </tr>\n",
       "    <tr>\n",
       "      <th>2017-12-31 23:55:19</th>\n",
       "      <td>393</td>\n",
       "      <td>2018-01-01 00:01:52</td>\n",
       "      <td>31209</td>\n",
       "      <td>1st &amp; N St  SE</td>\n",
       "      <td>31609</td>\n",
       "      <td>Maine Ave &amp; 7th St SW</td>\n",
       "      <td>W20144</td>\n",
       "      <td>Member</td>\n",
       "      <td>2017-12-31 23:55:19</td>\n",
       "      <td>364</td>\n",
       "    </tr>\n",
       "    <tr>\n",
       "      <th>2017-12-31 23:57:42</th>\n",
       "      <td>1319</td>\n",
       "      <td>2018-01-01 00:19:42</td>\n",
       "      <td>31102</td>\n",
       "      <td>11th &amp; Kenyon St NW</td>\n",
       "      <td>31102</td>\n",
       "      <td>11th &amp; Kenyon St NW</td>\n",
       "      <td>W20860</td>\n",
       "      <td>Member</td>\n",
       "      <td>2017-12-31 23:57:42</td>\n",
       "      <td>364</td>\n",
       "    </tr>\n",
       "    <tr>\n",
       "      <th>2017-12-31 23:58:21</th>\n",
       "      <td>266</td>\n",
       "      <td>2018-01-01 00:02:48</td>\n",
       "      <td>31229</td>\n",
       "      <td>New Hampshire Ave &amp; T St NW</td>\n",
       "      <td>31119</td>\n",
       "      <td>14th &amp; Belmont St NW</td>\n",
       "      <td>W01459</td>\n",
       "      <td>Member</td>\n",
       "      <td>2017-12-31 23:58:21</td>\n",
       "      <td>364</td>\n",
       "    </tr>\n",
       "  </tbody>\n",
       "</table>\n",
       "</div>"
      ],
      "text/plain": [
       "                     duration              enddate  startlocID  \\\n",
       "2017-12-31 23:43:17       277  2017-12-31 23:47:54       31109   \n",
       "2017-12-31 23:51:55       399  2017-12-31 23:58:35       31125   \n",
       "2017-12-31 23:55:19       393  2018-01-01 00:01:52       31209   \n",
       "2017-12-31 23:57:42      1319  2018-01-01 00:19:42       31102   \n",
       "2017-12-31 23:58:21       266  2018-01-01 00:02:48       31229   \n",
       "\n",
       "                                        startloc  endlocID  \\\n",
       "2017-12-31 23:43:17                7th & T St NW     31118   \n",
       "2017-12-31 23:51:55               15th & W St NW     31110   \n",
       "2017-12-31 23:55:19               1st & N St  SE     31609   \n",
       "2017-12-31 23:57:42          11th & Kenyon St NW     31102   \n",
       "2017-12-31 23:58:21  New Hampshire Ave & T St NW     31119   \n",
       "\n",
       "                                       endloc  bikeID memtype  \\\n",
       "2017-12-31 23:43:17           3rd & Elm St NW  W21036  Member   \n",
       "2017-12-31 23:51:55  20th St & Florida Ave NW  W23147  Casual   \n",
       "2017-12-31 23:55:19     Maine Ave & 7th St SW  W20144  Member   \n",
       "2017-12-31 23:57:42       11th & Kenyon St NW  W20860  Member   \n",
       "2017-12-31 23:58:21      14th & Belmont St NW  W01459  Member   \n",
       "\n",
       "                              startdate  timeDelt  \n",
       "2017-12-31 23:43:17 2017-12-31 23:43:17       364  \n",
       "2017-12-31 23:51:55 2017-12-31 23:51:55       364  \n",
       "2017-12-31 23:55:19 2017-12-31 23:55:19       364  \n",
       "2017-12-31 23:57:42 2017-12-31 23:57:42       364  \n",
       "2017-12-31 23:58:21 2017-12-31 23:58:21       364  "
      ]
     },
     "execution_count": 5,
     "metadata": {},
     "output_type": "execute_result"
    }
   ],
   "source": [
    "#add time tracking column (days from 2016-01-01), break dates into month and day\n",
    "from datetime import datetime as dt\n",
    "starttime = dt.strptime('2017-01-01', '%Y-%m-%d')\n",
    "bike2017['timeDelt'] = bike2017['startdate'].apply(lambda d: (d - starttime).days)\n",
    "bike2017.tail()"
   ]
  },
  {
   "cell_type": "code",
   "execution_count": 7,
   "metadata": {},
   "outputs": [],
   "source": [
    "bike2017['Year'] = bike2017['startdate'].apply(lambda t: t.year)\n",
    "bike2017['Month'] = bike2017['startdate'].apply(lambda t: t.month)\n",
    "bike2017['Day'] = bike2017['startdate'].apply(lambda t: t.day)"
   ]
  },
  {
   "cell_type": "code",
   "execution_count": 8,
   "metadata": {
    "collapsed": true
   },
   "outputs": [],
   "source": [
    "bike2017['startweekday'] = bike2017['startdate'].apply(lambda d: d.weekday())"
   ]
  },
  {
   "cell_type": "code",
   "execution_count": 9,
   "metadata": {},
   "outputs": [
    {
     "data": {
      "text/html": [
       "<div>\n",
       "<style>\n",
       "    .dataframe thead tr:only-child th {\n",
       "        text-align: right;\n",
       "    }\n",
       "\n",
       "    .dataframe thead th {\n",
       "        text-align: left;\n",
       "    }\n",
       "\n",
       "    .dataframe tbody tr th {\n",
       "        vertical-align: top;\n",
       "    }\n",
       "</style>\n",
       "<table border=\"1\" class=\"dataframe\">\n",
       "  <thead>\n",
       "    <tr style=\"text-align: right;\">\n",
       "      <th></th>\n",
       "      <th>station</th>\n",
       "      <th>precip</th>\n",
       "      <th>tmax</th>\n",
       "      <th>tmin</th>\n",
       "    </tr>\n",
       "    <tr>\n",
       "      <th>startdate</th>\n",
       "      <th></th>\n",
       "      <th></th>\n",
       "      <th></th>\n",
       "      <th></th>\n",
       "    </tr>\n",
       "  </thead>\n",
       "  <tbody>\n",
       "    <tr>\n",
       "      <th>2017-01-01</th>\n",
       "      <td>USC00186350</td>\n",
       "      <td>0.00</td>\n",
       "      <td>47.0</td>\n",
       "      <td>31.0</td>\n",
       "    </tr>\n",
       "    <tr>\n",
       "      <th>2017-01-02</th>\n",
       "      <td>USC00186350</td>\n",
       "      <td>0.03</td>\n",
       "      <td>55.0</td>\n",
       "      <td>38.0</td>\n",
       "    </tr>\n",
       "    <tr>\n",
       "      <th>2017-01-03</th>\n",
       "      <td>USC00186350</td>\n",
       "      <td>0.30</td>\n",
       "      <td>46.0</td>\n",
       "      <td>42.0</td>\n",
       "    </tr>\n",
       "    <tr>\n",
       "      <th>2017-01-04</th>\n",
       "      <td>USC00186350</td>\n",
       "      <td>0.69</td>\n",
       "      <td>50.0</td>\n",
       "      <td>44.0</td>\n",
       "    </tr>\n",
       "    <tr>\n",
       "      <th>2017-01-05</th>\n",
       "      <td>USC00186350</td>\n",
       "      <td>0.00</td>\n",
       "      <td>55.0</td>\n",
       "      <td>29.0</td>\n",
       "    </tr>\n",
       "  </tbody>\n",
       "</table>\n",
       "</div>"
      ],
      "text/plain": [
       "                station  precip  tmax  tmin\n",
       "startdate                                  \n",
       "2017-01-01  USC00186350    0.00  47.0  31.0\n",
       "2017-01-02  USC00186350    0.03  55.0  38.0\n",
       "2017-01-03  USC00186350    0.30  46.0  42.0\n",
       "2017-01-04  USC00186350    0.69  50.0  44.0\n",
       "2017-01-05  USC00186350    0.00  55.0  29.0"
      ]
     },
     "execution_count": 9,
     "metadata": {},
     "output_type": "execute_result"
    }
   ],
   "source": [
    "weather = pd.read_csv('../CapstoneDrafts/data/dc_weather_17.csv', parse_dates=True, index_col=1, header=0,\n",
    "                        names=['station','startdate','precip','tmax','tmin'])\n",
    "weather.head()"
   ]
  },
  {
   "cell_type": "code",
   "execution_count": 10,
   "metadata": {
    "collapsed": true
   },
   "outputs": [],
   "source": [
    "weather['tmax_sq'] = weather['tmax'].apply(lambda t: t**2)\n",
    "weather['tmin_sq'] = weather['tmin'].apply(lambda t: t**2)"
   ]
  },
  {
   "cell_type": "code",
   "execution_count": 11,
   "metadata": {
    "collapsed": true
   },
   "outputs": [],
   "source": [
    "weather['startdate2'] = weather.index\n",
    "weather['startdate2'] = weather['startdate2'].apply(lambda s: s.date())"
   ]
  },
  {
   "cell_type": "code",
   "execution_count": 12,
   "metadata": {
    "collapsed": true
   },
   "outputs": [],
   "source": [
    "grouped = bike2017.groupby(['Year','timeDelt'])['Year','Month','Day','startdate','timeDelt','startweekday'].max()\n",
    "grouped['totalRents'] = bike2017.groupby(['Year','timeDelt'])['timeDelt'].size()\n",
    "grouped['timeDelt_sq'] = grouped['timeDelt'].apply(lambda s: s**2)"
   ]
  },
  {
   "cell_type": "code",
   "execution_count": 13,
   "metadata": {
    "collapsed": true
   },
   "outputs": [],
   "source": [
    "grouped['startdate'] = grouped['startdate'].apply(lambda s: s.date())"
   ]
  },
  {
   "cell_type": "code",
   "execution_count": 15,
   "metadata": {},
   "outputs": [],
   "source": [
    "# add holiday indicator\n",
    "from pandas.tseries.holiday import USFederalHolidayCalendar\n",
    "cal = USFederalHolidayCalendar()\n",
    "holidays = cal.holidays('2017')"
   ]
  },
  {
   "cell_type": "code",
   "execution_count": 16,
   "metadata": {
    "collapsed": true
   },
   "outputs": [],
   "source": [
    "series=pd.DataFrame(pd.Series(1, index=holidays, name='holiday'))\n",
    "series['date']=series.index"
   ]
  },
  {
   "cell_type": "code",
   "execution_count": 17,
   "metadata": {
    "collapsed": true
   },
   "outputs": [],
   "source": [
    "grouped = pd.merge(grouped, series, left_on='startdate', right_on='date',how='left')\n",
    "grouped['holiday'].fillna(0, inplace=True)"
   ]
  },
  {
   "cell_type": "code",
   "execution_count": 20,
   "metadata": {
    "collapsed": true
   },
   "outputs": [],
   "source": [
    "totals2017 = pd.merge(grouped, weather, how='left', left_on='startdate', right_on='startdate2')\n",
    "totals2017=totals2017.fillna(method='ffill')"
   ]
  },
  {
   "cell_type": "code",
   "execution_count": 21,
   "metadata": {
    "collapsed": true
   },
   "outputs": [],
   "source": [
    "# convert days of the week (startweekday) to dummy variable columns\n",
    "weekday_dummies = pd.get_dummies(totals2017['startweekday'], prefix='day')\n",
    "totals2017 = pd.merge(totals2017, weekday_dummies, how='outer', left_index=True, right_index=True)"
   ]
  },
  {
   "cell_type": "code",
   "execution_count": 22,
   "metadata": {
    "collapsed": true
   },
   "outputs": [],
   "source": [
    "totals2017.to_csv('../CapstoneDrafts/data/2017totals.csv')"
   ]
  }
 ],
 "metadata": {
  "kernelspec": {
   "display_name": "Python 3",
   "language": "python",
   "name": "python3"
  },
  "language_info": {
   "codemirror_mode": {
    "name": "ipython",
    "version": 3
   },
   "file_extension": ".py",
   "mimetype": "text/x-python",
   "name": "python",
   "nbconvert_exporter": "python",
   "pygments_lexer": "ipython3",
   "version": "3.6.4"
  }
 },
 "nbformat": 4,
 "nbformat_minor": 2
}
